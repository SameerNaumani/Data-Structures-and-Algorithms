{
 "cells": [
  {
   "cell_type": "markdown",
   "metadata": {},
   "source": [
    "# CPS305 Fall 2019\n",
    "## Lab 06 Report\n",
    "## Sameer Naumani, Std ID 500703778\n",
    "\n",
    "10/27/2019\n",
    "\n",
    "# Introduction and Overall Comments\n",
    "\n",
    "The goal of this lab is to explore the quickSort Algorithm. In the excercise we utilize the pre-defined quickSort algorithm and Re-implement the median-of-three method (see Section 5.12 of the textbook) for selecting a pivot value as amodification to quickSort. After which testing was done on the new implementation in the test.py file. Additionally an experiment was devised to check the run time of both functioins\n",
    "\n",
    "Overall, the lab gave a better understanding of the quickSort algorithm and how to best decide a pivot value."
   ]
  },
  {
   "cell_type": "markdown",
   "metadata": {},
   "source": [
    "## Solution for exercise 1"
   ]
  },
  {
   "cell_type": "code",
   "execution_count": 60,
   "metadata": {
    "scrolled": true
   },
   "outputs": [
    {
     "name": "stdout",
     "output_type": "stream",
     "text": [
      "[17, 20, 26, 31, 44, 54, 55, 77, 93]\n"
     ]
    }
   ],
   "source": [
    "#Implement the median-of-three method (see Section 5.12 of the textbook) \n",
    "# for selecting a pivot value as amodification to quickSort (ame this function mo3_quickSort). \n",
    "# Prepare test cases for your mo3_quickSort\n",
    "\n",
    "def mo3_quickSort(alist):\n",
    "    quickSortHelper(alist,0,len(alist)-1)\n",
    "\n",
    "def quickSortHelper(alist,first,last):\n",
    "    if first<last:\n",
    "        splitpoint = partition(alist,first,last)\n",
    "        quickSortHelper(alist,first,splitpoint-1)\n",
    "        quickSortHelper(alist,splitpoint+1,last)\n",
    "\n",
    "\n",
    "def partition(alist,first,last):\n",
    "    #find middle index\n",
    "    middleindex = median(alist,first,last,(first+last)//2)\n",
    "    #print(middleindex)\n",
    "    #swap first element with the pivot value chosen\n",
    "    alist[first],alist[middleindex] = alist[middleindex],alist[first]\n",
    "    \n",
    "    pivotvalue = alist[first]\n",
    "\n",
    "    leftmark = first+1\n",
    "    rightmark = last\n",
    "\n",
    "    done = False\n",
    "    while not done:\n",
    "        while leftmark <= rightmark and alist[leftmark] <= pivotvalue:\n",
    "            leftmark = leftmark + 1\n",
    "\n",
    "        while alist[rightmark] >= pivotvalue and rightmark >= leftmark:\n",
    "            rightmark = rightmark -1\n",
    "\n",
    "        if rightmark < leftmark:\n",
    "            done = True\n",
    "        else:\n",
    "            temp = alist[leftmark]\n",
    "            alist[leftmark] = alist[rightmark]\n",
    "            alist[rightmark] = temp\n",
    "\n",
    "    temp = alist[first]\n",
    "    alist[first] = alist[rightmark]\n",
    "    alist[rightmark] = temp\n",
    "\n",
    "    return rightmark\n",
    "\n",
    "# Implement median\n",
    "def median(alist, first, last, middle):\n",
    "    if alist[first] < alist[last]:\n",
    "        return last if alist[last] < alist[middle] else int(middle)\n",
    "    else:\n",
    "        return first if alist[first] < alist[middle] else int(middle)\n",
    "\n",
    "\n",
    "alist = [54,26,93,17,77,31,44,55,20]\n",
    "mo3_quickSort(alist)\n",
    "print(alist)\n"
   ]
  },
  {
   "cell_type": "code",
   "execution_count": 41,
   "metadata": {},
   "outputs": [
    {
     "name": "stdout",
     "output_type": "stream",
     "text": [
      "[17, 20, 26, 31, 44, 54, 55, 77, 93]\n",
      "9\n"
     ]
    }
   ],
   "source": [
    "    \n",
    "#Original Quick Sort\n",
    "def quickSort(alist):\n",
    "    quickSortHelper2(alist,0,len(alist)-1)\n",
    "\n",
    "def quickSortHelper2(alist,first,last):\n",
    "    if first<last:\n",
    "        splitpoint = partition2(alist,first,last)\n",
    "        quickSortHelper2(alist,first,splitpoint-1)\n",
    "        quickSortHelper2(alist,splitpoint+1,last)\n",
    "\n",
    "\n",
    "def partition2(alist,first,last):\n",
    "    pivotvalue = alist[first]\n",
    "\n",
    "    leftmark = first+1\n",
    "    rightmark = last\n",
    "\n",
    "    done = False\n",
    "    while not done:\n",
    "\n",
    "        while leftmark <= rightmark and alist[leftmark] <= pivotvalue:\n",
    "            leftmark = leftmark + 1\n",
    "\n",
    "        while alist[rightmark] >= pivotvalue and rightmark >= leftmark:\n",
    "            rightmark = rightmark -1\n",
    "\n",
    "        if rightmark < leftmark:\n",
    "            done = True\n",
    "        else:\n",
    "            temp = alist[leftmark]\n",
    "            alist[leftmark] = alist[rightmark]\n",
    "            alist[rightmark] = temp\n",
    "\n",
    "    temp = alist[first]\n",
    "    alist[first] = alist[rightmark]\n",
    "    alist[rightmark] = temp\n",
    "\n",
    "\n",
    "    return rightmark\n",
    "\n",
    "\n",
    "alist = [54,26,93,17,77,31,44,55,20]\n",
    "quickSort(alist)\n",
    "print(alist)\n",
    "print(len(alist))\n",
    "\n",
    "\n"
   ]
  },
  {
   "cell_type": "code",
   "execution_count": 63,
   "metadata": {},
   "outputs": [
    {
     "data": {
      "image/png": "[encoded data removed]",
      "text/plain": [
       "<Figure size 432x288 with 1 Axes>"
      ]
     },
     "metadata": {
      "needs_background": "light"
     },
     "output_type": "display_data"
    }
   ],
   "source": [
    "import matplotlib.pyplot as plt\n",
    "import timeit\n",
    "import random\n",
    "\n",
    "\n",
    "y1, y1acc = [], 0\n",
    "y2, y2acc = [], 0\n",
    "\n",
    "reps = 10\n",
    "for i in range(10, 100, 10):\n",
    "    for j in range(reps):\n",
    "        t1 = timeit.Timer(\"mo3_quickSort(random.sample(range(100), 50))\", \"from __main__ import mo3_quickSort, random\")\n",
    "        t2 = timeit.Timer(\"quickSort(random.sample(range(100), 50))\", \"from __main__ import quickSort, random\")\n",
    "        \n",
    "        y1acc += t1.timeit(number=reps)\n",
    "        y2acc += t2.timeit(number=reps)\n",
    "\n",
    "    y1.append(y1acc/reps)\n",
    "    y2.append(y2acc/reps)\n",
    "\n",
    "x = range(10, 100, 10)        \n",
    "plt.xlabel('List size')\n",
    "plt.ylabel('Time (in miliseconds)')\n",
    "plt.plot(x, y1, 'r+', label=\"mo3_quickSort\")\n",
    "plt.plot(x, y2, 'g+', label=\"quickSort\")\n",
    "plt.legend()\n",
    "plt.show()\n",
    "\n"
   ]
  },
  {
   "cell_type": "markdown",
   "metadata": {},
   "source": [
    "**Discussion of the Results**\n",
    "In the excercise the goal was to reimplement the quickSort algorithm using the median of three method to decide the pivot value. The additional function defined as median was used to get the median pivot index and from there the regular algorithm did the work.\n",
    "\n",
    "An experiment was devised to show that Canonic quickSort is as fast as mo3_quickSort when processing large lists of unsortedintegers. To implement this experiment, the timeit module was imported and random unsorted lists of range 50 were generated and sorted using the respective algorithms. As seen above in the benchmark testing, both times are very close, thus proving the above mentioned statement. However the median of three quicksort method is only slightly better."
   ]
  }
 ],
 "metadata": {
  "kernelspec": {
   "display_name": "Python 3",
   "language": "python",
   "name": "python3"
  },
  "language_info": {
   "codemirror_mode": {
    "name": "ipython",
    "version": 3
   },
   "file_extension": ".py",
   "mimetype": "text/x-python",
   "name": "python",
   "nbconvert_exporter": "python",
   "pygments_lexer": "ipython3",
   "version": "3.7.3"
  },
  "latex_envs": {
   "LaTeX_envs_menu_present": true,
   "autoclose": false,
   "autocomplete": true,
   "bibliofile": "biblio.bib",
   "cite_by": "apalike",
   "current_citInitial": 1,
   "eqLabelWithNumbers": true,
   "eqNumInitial": 1,
   "hotkeys": {
    "equation": "Ctrl-E",
    "itemize": "Ctrl-I"
   },
   "labels_anchors": false,
   "latex_user_defs": false,
   "report_style_numbering": false,
   "user_envs_cfg": false
  }
 },
 "nbformat": 4,
 "nbformat_minor": 2
}
