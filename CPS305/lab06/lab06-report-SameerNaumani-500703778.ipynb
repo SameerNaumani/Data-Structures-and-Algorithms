{
 "cells": [
  {
   "cell_type": "markdown",
   "metadata": {},
   "source": [
    "# CPS305 Fall 2019\n",
    "## Lab 06 Report\n",
    "## Sameer Naumani, Std ID 500703778\n",
    "\n",
    "10/10/2019\n",
    "\n",
    "# Introduction and Overall Comments\n",
    "\n",
    "The goal of this lab is to explore the concept of Hashing. In the excercise we utilize the pre-defined HashTable class and Re-implement the put method so that the table will automatically resize itself when the loading factor reaches apredetermined value (you can decide the value based on your assessment of load versus performance). Set your initial tablesize to 11. \n",
    "\n",
    "Overall, integrating the helper functions into the original put function was a little tricky but overall this lab enhanced the understanding of hash functions."
   ]
  },
  {
   "cell_type": "markdown",
   "metadata": {},
   "source": [
    "## Solution for exercise 1"
   ]
  },
  {
   "cell_type": "code",
   "execution_count": 2,
   "metadata": {
    "scrolled": true
   },
   "outputs": [
    {
     "name": "stdout",
     "output_type": "stream",
     "text": [
      "[17, 20, 26, 31, 44, 54, 55, 77, 93]\n"
     ]
    }
   ],
   "source": [
    "def quickSort(alist):\n",
    "    quickSortHelper(alist,0,len(alist)-1)\n",
    "\n",
    "def quickSortHelper(alist,first,last):\n",
    "    if first<last:\n",
    "        splitpoint = partition(alist,first,last)\n",
    "        quickSortHelper(alist,first,splitpoint-1)\n",
    "        quickSortHelper(alist,splitpoint+1,last)\n",
    "\n",
    "\n",
    "def partition(alist,first,last):\n",
    "    pivotvalue = alist[first]\n",
    "\n",
    "    leftmark = first+1\n",
    "    rightmark = last\n",
    "\n",
    "    done = False\n",
    "    while not done:\n",
    "        while leftmark <= rightmark and alist[leftmark] <= pivotvalue:\n",
    "            leftmark = leftmark + 1\n",
    "\n",
    "        while alist[rightmark] >= pivotvalue and rightmark >= leftmark:\n",
    "            rightmark = rightmark -1\n",
    "\n",
    "        if rightmark < leftmark:\n",
    "            done = True\n",
    "        else:\n",
    "            temp = alist[leftmark]\n",
    "            alist[leftmark] = alist[rightmark]\n",
    "            alist[rightmark] = temp\n",
    "\n",
    "    temp = alist[first]\n",
    "    alist[first] = alist[rightmark]\n",
    "    alist[rightmark] = temp\n",
    "\n",
    "    return rightmark\n",
    "\n",
    "def median(a, i, j, k):\n",
    "    if a[i] < a[j]:\n",
    "        return j \n",
    "    \n",
    "    else:\n",
    "        return i \n",
    "\n",
    "    l = [3,5,2,1,6,4]\n",
    "\n",
    "    quickSort(l)\n",
    "\n",
    "\n",
    "alist = [54,26,93,17,77,31,44,55,20]\n",
    "quickSort(alist)\n",
    "print(alist)\n"
   ]
  },
  {
   "cell_type": "markdown",
   "metadata": {},
   "source": [
    "**Discussion of the Results**\n",
    "In the excercise the goal was to resize the hash table if a certain threshold is obtained.\n",
    "\n",
    "1. Why did you choose a particular resizing method? How much does your table grow at each resize operation?\n",
    "The resizing method I implemented kept track of how many items were put into the table by incrementing the count variable. The size of the table was predetermined to be 11. Once a threshold of 80% is reached the table size is doubled and rounded up to the nearest prime number. The reason for making sure that the hash table size is a prime number is that this method avoids clustering problems described in the lectures. So every time the table is resized it is doubled and rounded to the nearest prime number. \n",
    "\n",
    "For example the first time, 11*2 = 22 +1 = 23. The second time the table needs to grow, the size becomes 23*2 = 46 + 1 = 47. This is also verified in the test cases.\n",
    "\n",
    "\n",
    "2. What loading factor threshold have used for the resizing the table and why that particular choice?\n",
    "The loading factor threshold I have used is 80%. The default load factor (.75) offers a good tradeoff between time and space costs. However, I decided to use 80% for this case because there are less items and as a result less space would be wasted. "
   ]
  }
 ],
 "metadata": {
  "kernelspec": {
   "display_name": "Python 3",
   "language": "python",
   "name": "python3"
  },
  "language_info": {
   "codemirror_mode": {
    "name": "ipython",
    "version": 3
   },
   "file_extension": ".py",
   "mimetype": "text/x-python",
   "name": "python",
   "nbconvert_exporter": "python",
   "pygments_lexer": "ipython3",
   "version": "3.7.3"
  },
  "latex_envs": {
   "LaTeX_envs_menu_present": true,
   "autoclose": false,
   "autocomplete": true,
   "bibliofile": "biblio.bib",
   "cite_by": "apalike",
   "current_citInitial": 1,
   "eqLabelWithNumbers": true,
   "eqNumInitial": 1,
   "hotkeys": {
    "equation": "Ctrl-E",
    "itemize": "Ctrl-I"
   },
   "labels_anchors": false,
   "latex_user_defs": false,
   "report_style_numbering": false,
   "user_envs_cfg": false
  }
 },
 "nbformat": 4,
 "nbformat_minor": 2
}
