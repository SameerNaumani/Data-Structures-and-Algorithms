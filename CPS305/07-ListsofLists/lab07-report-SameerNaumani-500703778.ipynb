{
 "cells": [
  {
   "cell_type": "markdown",
   "metadata": {},
   "source": [
    "# CPS305 Fall 2019\n",
    "## Lab 07 Report\n",
    "## Sameer Naumani, Std ID 500703778\n",
    "\n",
    "11/1/2019\n",
    "\n",
    "# Introduction and Overall Comments\n",
    "\n",
    "The goal of this lab is to explore the concept of List of Lists and Trees. In this lab we implement a function called evalTree that takes two arguments: a tree and an environment , where: (in list of lists notation) represents a  expression. The function evalTree(tree, environment) should evaluate the expression represented by the tree, takinginto account the bindings defined in the environment.\n",
    " \n",
    "Overall, this lab was a bit tricky but provided a better understanding of trees."
   ]
  },
  {
   "cell_type": "markdown",
   "metadata": {},
   "source": [
    "## Solution for exercise 1"
   ]
  },
  {
   "cell_type": "code",
   "execution_count": 85,
   "metadata": {},
   "outputs": [
    {
     "name": "stdout",
     "output_type": "stream",
     "text": [
      "10\n",
      "22\n",
      "610\n",
      "600\n"
     ]
    }
   ],
   "source": [
    "def evalTree(tree,environment):\n",
    "    if(tree[0].isdigit()):\n",
    "        return tree[0]\n",
    "    \n",
    "    if (tree[0] == []):\n",
    "        return\n",
    "    \n",
    "    elif(tree[0] in \"abcx1\"):\n",
    "        dicts = getDict(environment)\n",
    "        return dicts.get(tree[0])\n",
    "        \n",
    "    elif(tree[0] == \"+\" or tree[0] ==\"-\" or tree[0] == \"*\" or tree[0] == \"/\"):\n",
    "        a = evalTree(tree[1], environment)\n",
    "        int(a)\n",
    "        #print(a)\n",
    "        b = evalTree(tree[2], environment)\n",
    "        int(b)\n",
    "        #print(b)\n",
    "        result = getResult(a,b,tree[0])\n",
    "                \n",
    "        return result\n",
    "            \n",
    "                \n",
    "def getDict(environment):\n",
    "    dicti={};\n",
    "    for outside in environment:\n",
    "        dicti[outside[0]]=outside[1]\n",
    "    return dicti\n",
    "        \n",
    "            \n",
    "def checkOperator(op):\n",
    "    if (op=='+' or op=='-' or op=='*' or op=='/'):\n",
    "        return True\n",
    "    else:\n",
    "        return False\n",
    "  \n",
    "def getResult(first,second,operator):\n",
    "    if operator=='+':\n",
    "        return first+second\n",
    "    elif operator=='-':\n",
    "        return first-second\n",
    "    elif operator=='*':\n",
    "        return first*second\n",
    "    elif operator=='/':\n",
    "        int(first)\n",
    "        int(second)\n",
    "        if(second == 0):\n",
    "            return None\n",
    "        else:\n",
    "            return int((first)//(second))\n",
    "\n",
    "\n",
    "test1Tree=[\"10\",[],[]]\n",
    "test1Environment=[[\"a\",10],[\"b\",20],[\"c\",30]]\n",
    "test2Tree=[\"x1\",[],[]]\n",
    "test2Environment=[[\"a\",10],[\"x1\",22]]\n",
    "test3Tree=[\"/\",[\"a\",[],[]],[\"0\",[],[]]]\n",
    "test3Environment=[[\"a\",10],[\"x1\",22]]\n",
    "test4Tree=[\"+\",[\"a\",[],[]],[\"*\",[\"b\",[],[]],[\"c\",[],[]]]]\n",
    "test4Environment=[[\"a\",10],[\"b\",20],[\"c\",30]]\n",
    "test5Tree=[\"*\",[\"b\",[],[]],[\"c\",[],[]]]\n",
    "test5Environment=[[\"a\",10],[\"b\",20],[\"c\",30]]\n",
    "\n",
    "#evalTree(test3Tree,test3Environment)\n",
    "\n",
    "\n",
    "#print(evalTree(test1Tree,test1Environment))\n",
    "#print(evalTree(test2Tree,test2Environment))\n",
    "#print(evalTree(test4Tree,test4Environment))\n",
    "#print(evalTree(test5Tree,test5Environment))\n",
    "\n",
    "#print(test1Tree[2])\n",
    "#print(getDict(test1Environment))\n",
    "#print(getDict(test2Environment))\n",
    "#print(getDict(test5Environment))            \n",
    "\n"
   ]
  },
  {
   "cell_type": "markdown",
   "metadata": {},
   "source": [
    "**Discussion of the Results**\n",
    "In this lab we implement a function called evalTree that takes two arguments: a tree and an environment , where: (in list of lists notation) represents a  expression. The function evalTree(tree, environment) should evaluate the expression represented by the tree, takinginto account the bindings defined in the environment.\n",
    "\n",
    "As per the results, the program checks the first index. If the first index is an operand it recurses through the program. If the index is a number, it returns the number. If the index is a variable, it will check the variable and look up its value using the dictionary. Using this recursive function it will compute the final value."
   ]
  }
 ],
 "metadata": {
  "kernelspec": {
   "display_name": "Python 3",
   "language": "python",
   "name": "python3"
  },
  "language_info": {
   "codemirror_mode": {
    "name": "ipython",
    "version": 3
   },
   "file_extension": ".py",
   "mimetype": "text/x-python",
   "name": "python",
   "nbconvert_exporter": "python",
   "pygments_lexer": "ipython3",
   "version": "3.7.3"
  },
  "latex_envs": {
   "LaTeX_envs_menu_present": true,
   "autoclose": false,
   "autocomplete": true,
   "bibliofile": "biblio.bib",
   "cite_by": "apalike",
   "current_citInitial": 1,
   "eqLabelWithNumbers": true,
   "eqNumInitial": 1,
   "hotkeys": {
    "equation": "Ctrl-E",
    "itemize": "Ctrl-I"
   },
   "labels_anchors": false,
   "latex_user_defs": false,
   "report_style_numbering": false,
   "user_envs_cfg": false
  }
 },
 "nbformat": 4,
 "nbformat_minor": 2
}
