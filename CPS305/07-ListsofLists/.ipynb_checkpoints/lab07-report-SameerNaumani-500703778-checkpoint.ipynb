{
 "cells": [
  {
   "cell_type": "markdown",
   "metadata": {},
   "source": [
    "# CPS305 Fall 2019\n",
    "## Lab 07 Report\n",
    "## Sameer Naumani, Std ID 500703778\n",
    "\n",
    "10/10/2019\n",
    "\n",
    "# Introduction and Overall Comments\n",
    "\n",
    "The goal of this lab is to explore the concept of List of Lists and Trees. In this lab we implement a function called evalTree that takes two arguments: a  and an , where: (in list of lists notation) represents a  expression. The function evalTree(tree, environment) should evaluate the expression represented by the tree, takinginto account the bindings defined in the environment.\n",
    " \n",
    "Overall, this lab was a bit tricky but provided a better understanding of trees."
   ]
  },
  {
   "cell_type": "markdown",
   "metadata": {},
   "source": [
    "## Solution for exercise 1"
   ]
  },
  {
   "cell_type": "code",
   "execution_count": 76,
   "metadata": {},
   "outputs": [
    {
     "name": "stdout",
     "output_type": "stream",
     "text": [
      "10\n",
      "22\n"
     ]
    },
    {
     "ename": "TypeError",
     "evalue": "unsupported operand type(s) for //: 'int' and 'str'",
     "output_type": "error",
     "traceback": [
      "\u001b[1;31m---------------------------------------------------------------------------\u001b[0m",
      "\u001b[1;31mTypeError\u001b[0m                                 Traceback (most recent call last)",
      "\u001b[1;32m<ipython-input-76-aa0f75c3b4d5>\u001b[0m in \u001b[0;36m<module>\u001b[1;34m\u001b[0m\n\u001b[0;32m     69\u001b[0m \u001b[0mprint\u001b[0m\u001b[1;33m(\u001b[0m\u001b[0mevalTree\u001b[0m\u001b[1;33m(\u001b[0m\u001b[0mtest1Tree\u001b[0m\u001b[1;33m,\u001b[0m\u001b[0mtest1Environment\u001b[0m\u001b[1;33m)\u001b[0m\u001b[1;33m)\u001b[0m\u001b[1;33m\u001b[0m\u001b[1;33m\u001b[0m\u001b[0m\n\u001b[0;32m     70\u001b[0m \u001b[0mprint\u001b[0m\u001b[1;33m(\u001b[0m\u001b[0mevalTree\u001b[0m\u001b[1;33m(\u001b[0m\u001b[0mtest2Tree\u001b[0m\u001b[1;33m,\u001b[0m\u001b[0mtest2Environment\u001b[0m\u001b[1;33m)\u001b[0m\u001b[1;33m)\u001b[0m\u001b[1;33m\u001b[0m\u001b[1;33m\u001b[0m\u001b[0m\n\u001b[1;32m---> 71\u001b[1;33m \u001b[0mprint\u001b[0m\u001b[1;33m(\u001b[0m\u001b[0mevalTree\u001b[0m\u001b[1;33m(\u001b[0m\u001b[0mtest3Tree\u001b[0m\u001b[1;33m,\u001b[0m\u001b[0mtest3Environment\u001b[0m\u001b[1;33m)\u001b[0m\u001b[1;33m)\u001b[0m\u001b[1;33m\u001b[0m\u001b[1;33m\u001b[0m\u001b[0m\n\u001b[0m\u001b[0;32m     72\u001b[0m \u001b[0mprint\u001b[0m\u001b[1;33m(\u001b[0m\u001b[0mevalTree\u001b[0m\u001b[1;33m(\u001b[0m\u001b[0mtest4Tree\u001b[0m\u001b[1;33m,\u001b[0m\u001b[0mtest4Environment\u001b[0m\u001b[1;33m)\u001b[0m\u001b[1;33m)\u001b[0m\u001b[1;33m\u001b[0m\u001b[1;33m\u001b[0m\u001b[0m\n\u001b[0;32m     73\u001b[0m \u001b[0mprint\u001b[0m\u001b[1;33m(\u001b[0m\u001b[0mevalTree\u001b[0m\u001b[1;33m(\u001b[0m\u001b[0mtest5Tree\u001b[0m\u001b[1;33m,\u001b[0m\u001b[0mtest5Environment\u001b[0m\u001b[1;33m)\u001b[0m\u001b[1;33m)\u001b[0m\u001b[1;33m\u001b[0m\u001b[1;33m\u001b[0m\u001b[0m\n",
      "\u001b[1;32m<ipython-input-76-aa0f75c3b4d5>\u001b[0m in \u001b[0;36mevalTree\u001b[1;34m(tree, environment)\u001b[0m\n\u001b[0;32m     17\u001b[0m         \u001b[0mint\u001b[0m\u001b[1;33m(\u001b[0m\u001b[0mb\u001b[0m\u001b[1;33m)\u001b[0m\u001b[1;33m\u001b[0m\u001b[1;33m\u001b[0m\u001b[0m\n\u001b[0;32m     18\u001b[0m         \u001b[1;31m#print(b)\u001b[0m\u001b[1;33m\u001b[0m\u001b[1;33m\u001b[0m\u001b[1;33m\u001b[0m\u001b[0m\n\u001b[1;32m---> 19\u001b[1;33m         \u001b[0mresult\u001b[0m \u001b[1;33m=\u001b[0m \u001b[0mgetResult\u001b[0m\u001b[1;33m(\u001b[0m\u001b[0ma\u001b[0m\u001b[1;33m,\u001b[0m\u001b[0mb\u001b[0m\u001b[1;33m,\u001b[0m\u001b[0mtree\u001b[0m\u001b[1;33m[\u001b[0m\u001b[1;36m0\u001b[0m\u001b[1;33m]\u001b[0m\u001b[1;33m)\u001b[0m\u001b[1;33m\u001b[0m\u001b[1;33m\u001b[0m\u001b[0m\n\u001b[0m\u001b[0;32m     20\u001b[0m \u001b[1;33m\u001b[0m\u001b[0m\n\u001b[0;32m     21\u001b[0m         \u001b[1;32mreturn\u001b[0m \u001b[0mresult\u001b[0m\u001b[1;33m\u001b[0m\u001b[1;33m\u001b[0m\u001b[0m\n",
      "\u001b[1;32m<ipython-input-76-aa0f75c3b4d5>\u001b[0m in \u001b[0;36mgetResult\u001b[1;34m(first, second, operator)\u001b[0m\n\u001b[0;32m     46\u001b[0m         \u001b[0mint\u001b[0m\u001b[1;33m(\u001b[0m\u001b[0msecond\u001b[0m\u001b[1;33m)\u001b[0m\u001b[1;33m\u001b[0m\u001b[1;33m\u001b[0m\u001b[0m\n\u001b[0;32m     47\u001b[0m         \u001b[1;32mtry\u001b[0m\u001b[1;33m:\u001b[0m\u001b[1;33m\u001b[0m\u001b[1;33m\u001b[0m\u001b[0m\n\u001b[1;32m---> 48\u001b[1;33m             \u001b[0mresult\u001b[0m \u001b[1;33m=\u001b[0m \u001b[1;33m(\u001b[0m\u001b[0mfirst\u001b[0m\u001b[1;33m)\u001b[0m\u001b[1;33m//\u001b[0m\u001b[1;33m(\u001b[0m\u001b[0msecond\u001b[0m\u001b[1;33m)\u001b[0m\u001b[1;33m\u001b[0m\u001b[1;33m\u001b[0m\u001b[0m\n\u001b[0m\u001b[0;32m     49\u001b[0m         \u001b[1;32mexcept\u001b[0m \u001b[0mZeroDivisionError\u001b[0m\u001b[1;33m:\u001b[0m\u001b[1;33m\u001b[0m\u001b[1;33m\u001b[0m\u001b[0m\n\u001b[0;32m     50\u001b[0m             \u001b[0mprint\u001b[0m\u001b[1;33m(\u001b[0m\u001b[1;34m\"You can't divide by zero!\"\u001b[0m\u001b[1;33m)\u001b[0m\u001b[1;33m\u001b[0m\u001b[1;33m\u001b[0m\u001b[0m\n",
      "\u001b[1;31mTypeError\u001b[0m: unsupported operand type(s) for //: 'int' and 'str'"
     ]
    }
   ],
   "source": [
    "def evalTree(tree,environment):\n",
    "    if(tree[0].isdigit()):\n",
    "        return tree[0]\n",
    "    \n",
    "    if (tree[0] == []):\n",
    "        return\n",
    "    \n",
    "    elif(tree[0] in \"abcx1\"):\n",
    "        dicts = getDict(environment)\n",
    "        return dicts.get(str(tree[0]))\n",
    "        \n",
    "    elif(tree[0] == \"+\" or tree[0] ==\"-\" or tree[0] == \"*\" or tree[0] == \"/\"):\n",
    "        a = evalTree(tree[1], environment)\n",
    "        int(a)\n",
    "        #print(a)\n",
    "        b = evalTree(tree[2], environment)\n",
    "        int(b)\n",
    "        #print(b)\n",
    "        result = getResult(a,b,tree[0])\n",
    "                \n",
    "        return result\n",
    "            \n",
    "                \n",
    "def getDict(environment):\n",
    "    dicti={};\n",
    "    for outside in environment:\n",
    "        dicti[outside[0]]=outside[1]\n",
    "    return dicti\n",
    "        \n",
    "            \n",
    "def checkOperator(op):\n",
    "    if (op=='+' or op=='-' or op=='*' or op=='/'):\n",
    "        return True\n",
    "    else:\n",
    "        return False\n",
    "  \n",
    "def getResult(first,second,operator):\n",
    "    if operator=='+':\n",
    "        return first+second\n",
    "    elif operator=='-':\n",
    "        return first-second\n",
    "    elif operator=='*':\n",
    "        return first*second\n",
    "    elif operator=='/':\n",
    "        int(first)\n",
    "        int(second)\n",
    "        try:\n",
    "            result = (first)//(second)\n",
    "        except ZeroDivisionError:\n",
    "            print(\"You can't divide by zero!\")\n",
    "            return None\n",
    "        return int((first)//(second))\n",
    "\n",
    "\n",
    "test1Tree=[\"10\",[],[]]\n",
    "test1Environment=[[\"a\",10],[\"b\",20],[\"c\",30]]\n",
    "test2Tree=[\"x1\",[],[]]\n",
    "test2Environment=[[\"a\",10],[\"x1\",22]]\n",
    "test3Tree=[\"/\",[\"a\",[],[]],[\"0\",[],[]]]\n",
    "test3Environment=[[\"a\",10],[\"x1\",22]]\n",
    "test4Tree=[\"+\",[\"a\",[],[]],[\"*\",[\"b\",[],[]],[\"c\",[],[]]]]\n",
    "test4Environment=[[\"a\",10],[\"b\",20],[\"c\",30]]\n",
    "test5Tree=[\"*\",[\"b\",[],[]],[\"c\",[],[]]]\n",
    "test5Environment=[[\"a\",10],[\"b\",20],[\"c\",30]]\n",
    "\n",
    "#evalTree(test3Tree,test3Environment)\n",
    "\n",
    "\n",
    "print(evalTree(test1Tree,test1Environment))\n",
    "print(evalTree(test2Tree,test2Environment))\n",
    "print(evalTree(test3Tree,test3Environment))\n",
    "print(evalTree(test4Tree,test4Environment))\n",
    "print(evalTree(test5Tree,test5Environment))\n",
    "\n",
    "#print(test1Tree[2])\n",
    "#print(getDict(test1Environment))\n",
    "#print(getDict(test2Environment))\n",
    "#print(getDict(test5Environment))            \n",
    "\n"
   ]
  },
  {
   "cell_type": "markdown",
   "metadata": {},
   "source": [
    "**Discussion of the Results**\n",
    "In the excercise the goal was to resize the hash table if a certain threshold is obtained.\n",
    "\n",
    "1. Why did you choose a particular resizing method? How much does your table grow at each resize operation?\n",
    "The resizing method I implemented kept track of how many items were put into the table by incrementing the count variable. The size of the table was predetermined to be 11. Once a threshold of 80% is reached the table size is doubled and rounded up to the nearest prime number. The reason for making sure that the hash table size is a prime number is that this method avoids clustering problems described in the lectures. So every time the table is resized it is doubled and rounded to the nearest prime number. \n",
    "\n",
    "For example the first time, 11*2 = 22 +1 = 23. The second time the table needs to grow, the size becomes 23*2 = 46 + 1 = 47. This is also verified in the test cases.\n",
    "\n",
    "\n",
    "2. What loading factor threshold have used for the resizing the table and why that particular choice?\n",
    "The loading factor threshold I have used is 80%. The default load factor (.75) offers a good tradeoff between time and space costs. However, I decided to use 80% for this case because there are less items and as a result less space would be wasted. "
   ]
  }
 ],
 "metadata": {
  "kernelspec": {
   "display_name": "Python 3",
   "language": "python",
   "name": "python3"
  },
  "language_info": {
   "codemirror_mode": {
    "name": "ipython",
    "version": 3
   },
   "file_extension": ".py",
   "mimetype": "text/x-python",
   "name": "python",
   "nbconvert_exporter": "python",
   "pygments_lexer": "ipython3",
   "version": "3.7.3"
  },
  "latex_envs": {
   "LaTeX_envs_menu_present": true,
   "autoclose": false,
   "autocomplete": true,
   "bibliofile": "biblio.bib",
   "cite_by": "apalike",
   "current_citInitial": 1,
   "eqLabelWithNumbers": true,
   "eqNumInitial": 1,
   "hotkeys": {
    "equation": "Ctrl-E",
    "itemize": "Ctrl-I"
   },
   "labels_anchors": false,
   "latex_user_defs": false,
   "report_style_numbering": false,
   "user_envs_cfg": false
  }
 },
 "nbformat": 4,
 "nbformat_minor": 2
}
