{
 "cells": [
  {
   "cell_type": "markdown",
   "metadata": {
    "slideshow": {
     "slide_type": "slide"
    }
   },
   "source": [
    "# Messages to the class\n",
    "- Lecture notes of the previous week posted on D2L.\n",
    "- Really happy with your participation in the Labs and in the Reading Assignments.\n",
    "- Continued effort in doing the 'Before your come to the lab' section of the lab **BEFORE THE LAB**.\n",
    "- Learning objectives of today's lecture:\n",
    " 1. To describe why algorithm analysis is important.\n",
    " 2. To be able to use “Big-O” to describe execution time.\n",
    "- of tomorrow's lecture\n",
    "  3. To obtain the “Big-O” execution time of common operations on Python lists and dictionaries.\n",
    "  4. To describe how the implementation of Python data may impact algorithm analysis.\n",
    "  5. To benchmark simple Python programs."
   ]
  },
  {
   "cell_type": "markdown",
   "metadata": {
    "slideshow": {
     "slide_type": "slide"
    }
   },
   "source": [
    "# Algorithm Analysis: motivation\n",
    "\n",
    "- What is an algorithm?\n",
    "- Which set is bigger, the set of all algorithms or the set of all programs?\n",
    "- Given two different programs that solve the same problem, which one is \"better\"?\n",
    "```python\n",
    "def sumOfN1(n):\n",
    "    theSum = 0\n",
    "    for i in range(1,n+1):\n",
    "        theSum = theSum + i\n",
    "        return theSum\n",
    "```\n",
    "```python\n",
    "def foo(tom):\n",
    "    fred = 0\n",
    "    for bill in range(1,tom+1):\n",
    "        barney = bill\n",
    "        fred = fred + barney\n",
    "    return fred\n",
    "```"
   ]
  },
  {
   "cell_type": "markdown",
   "metadata": {
    "slideshow": {
     "slide_type": "slide"
    }
   },
   "source": [
    "# Algorithm analysis\n",
    "\n",
    "- Comparison of programs depends on the criteria used for the comparison:\n",
    "  - readability\n",
    "  - the algorithm itself \n",
    "- In Algorithm Analysis, as the name implies, we focus on the algorithm.\n",
    "- In particular, we are concerned with comparing algorithms based upon the amount of **computing resources** that each algorithm uses."
   ]
  },
  {
   "cell_type": "markdown",
   "metadata": {
    "slideshow": {
     "slide_type": "slide"
    }
   },
   "source": [
    "# Computing resources\n",
    "- Two ways of looking at what \"computer resources\" an algorithm requires to solve a problem\n",
    "  - The amount of **memory**\n",
    "  - The amount of **time**, usually referred as \"execution time\" or \"running time\"\n",
    "\n",
    "Let's then consider this alternative way to compute the summation of an integer $n$:\n",
    "$$\n",
    "\\sum_{i=1}^{n}i = \\frac{n(n+1)}{2}\n",
    "$$\n",
    "Now, considering the \"running time\" computing resource, which of the following functions is better?"
   ]
  },
  {
   "cell_type": "markdown",
   "metadata": {
    "slideshow": {
     "slide_type": "slide"
    }
   },
   "source": [
    "# Computing resource: running time\n",
    "\n",
    "```python\n",
    "def sumOfN1(n):\n",
    "    theSum = 0\n",
    "    for i in range(1,n+1):\n",
    "        theSum = theSum + i\n",
    "    return theSum\n",
    "```\n",
    "```python\n",
    "def foo(tom):\n",
    "    fred = 0\n",
    "    for bill in range(1,tom+1):\n",
    "        barney = bill\n",
    "        fred = fred + barney\n",
    "    return fred\n",
    "```\n",
    "```python\n",
    "def sumOfN2(n):\n",
    "    return (n*(n+1))/2\n",
    "```"
   ]
  },
  {
   "cell_type": "markdown",
   "metadata": {
    "slideshow": {
     "slide_type": "fragment"
    }
   },
   "source": [
    "<table>\n",
    "    <tr>\n",
    "        <td>\n",
    "            Benchmarking the functions for various values of $n$.\n",
    "        </td>\n",
    "        <td>\n",
    "            <img src=\"Figures/analysis1.png\" width=\"400\">\n",
    "        </td>\n",
    "    </tr>\n",
    "</table>\n",
    "    "
   ]
  },
  {
   "cell_type": "code",
   "execution_count": 2,
   "metadata": {
    "slideshow": {
     "slide_type": "skip"
    }
   },
   "outputs": [
    {
     "data": {
      "image/png": "[encoded data removed]",
      "text/plain": [
       "<Figure size 432x288 with 1 Axes>"
      ]
     },
     "metadata": {
      "needs_background": "light"
     },
     "output_type": "display_data"
    }
   ],
   "source": [
    "import matplotlib.pyplot as plt\n",
    "import timeit\n",
    "\n",
    "def sumOfN1(n):\n",
    "   theSum = 0\n",
    "   for i in range(1,n+1):\n",
    "      theSum = theSum + i\n",
    "   return theSum\n",
    "\n",
    "def foo(tom):\n",
    "    fred = 0\n",
    "    for bill in range(1,tom+1):\n",
    "       barney = bill\n",
    "       fred = fred + barney\n",
    "    return fred\n",
    "\n",
    "def sumOfN2(n):\n",
    "   return (n*(n+1))/2\n",
    "\n",
    "n = 100\n",
    "reps = 1\n",
    "\n",
    "yac1 = [0]*n\n",
    "yacf = [0]*n\n",
    "yac2 = [0]*n\n",
    "for i in range(n):\n",
    "    for j in range(reps):\n",
    "        t1 = timeit.Timer(\"sumOfN1(%d)\"%i, \"from __main__ import sumOfN1\")\n",
    "        tf = timeit.Timer(\"foo(%d)\"%i, \"from __main__ import foo\")\n",
    "        t2 = timeit.Timer(\"sumOfN2(%d)\"%i, \"from __main__ import sumOfN2\")\n",
    "        yac1[i] += t1.timeit(number=1000)\n",
    "        yacf[i] += tf.timeit(number=1000)\n",
    "        yac2[i] += t2.timeit(number=1000)\n",
    "    yac1[i] /= reps\n",
    "    yacf[i] /= reps\n",
    "    yac2[i] /= reps\n",
    "\n",
    "x = list(range(n))\n",
    "plt.xlabel('n')\n",
    "plt.ylabel('Running time (in seconds)')\n",
    "plt.plot(x, yac1, 'ro', label=\"sumOfN1(n)\")\n",
    "plt.plot(x, yacf, 'g^', label=\"foo(n)\")\n",
    "plt.plot(x, yac2, 'b+', label=\"sumOfN2(n)\")\n",
    "plt.legend()\n",
    "\n",
    "plt.show()"
   ]
  },
  {
   "cell_type": "markdown",
   "metadata": {
    "slideshow": {
     "slide_type": "slide"
    }
   },
   "source": [
    "# Algorithm analysis: conclusions so far\n",
    "\n",
    "- The times recorded for `sumOfN2` are shorter than any of the previous examples. \n",
    "- They are very consistent no matter what the value of $n$.\n",
    "- But what does this benchmark tecnhique tell us?\n",
    "  - apparently iterative solutions take longer as we increase the value of $n$\n",
    "  - but would we get the same result if we run the same function in a different computer?\n",
    "    - the actual execution time does not really provide a useful measurement.\n",
    "\n",
    "- We need a characterization of execution time that is independent of the program or computer being used.\n",
    "- This measure would be useful for judging the algorithm, not the program, or the computer where the program runs.\n"
   ]
  },
  {
   "cell_type": "markdown",
   "metadata": {
    "slideshow": {
     "slide_type": "slide"
    }
   },
   "source": [
    "# Big-O notation\n",
    "\n",
    "- In general, the running time of an algorithm grows with the size of the input.\n",
    "- The best notion for **input size** depends on the problem being studied (e.g.?)\n",
    "- We can use a function $T(n)$ to represent the **running time** (\"the number of steps\") of an algorithm on a input of size $n$. E.g.:\n",
    "$$\n",
    "𝑇(𝑛)=5𝑛^2+27𝑛+1005\n",
    "$$\n",
    "- When $n$ gets larger, the term $n^2$ becomes the most important.\n",
    "- The **Order of Magnitude** function, $O(f(n))$ describes the part $f(n)$ of $T(n)$ that increases the fastest when $n$ grows.\n",
    "-  The running time $T(n)$ above has an order of magnitude $O(n^2)$.\n",
    "\n"
   ]
  },
  {
   "cell_type": "markdown",
   "metadata": {
    "slideshow": {
     "slide_type": "slide"
    }
   },
   "source": [
    "# Common big-O functions\n",
    "\n",
    "<table>\n",
    "    <tr>\n",
    "        <td>\n",
    "            <img src=\"Figures/bigOfunctions.png\" width=\"500\">\n",
    "        </td>\n",
    "        <td>\n",
    "            <img src=\"Figures/bigOs.png\" width=\"400\">\n",
    "        </td>\n",
    "    </tr>\n",
    "</table>\n",
    "    "
   ]
  },
  {
   "cell_type": "markdown",
   "metadata": {
    "slideshow": {
     "slide_type": "slide"
    }
   },
   "source": [
    "# Examples of running time and order of magnitute/growth\n",
    "- an assignment statment: \n",
    "```python\n",
    "x = y + b\n",
    "```\n",
    "  - Running time: $T(n) = c$, where $c$ is a constant, e.g., 1. For our purposes $T(n)=1$\n",
    "  - Order of magnitude: $O(1)$\n",
    "- a loop:\n",
    "```python\n",
    "for i in range(n):  # repeats n times\n",
    "    x = i+b   # takes some constant time\n",
    "    y = a+b   # takes some constant time\n",
    "```\n",
    "  - Running time: is the summation of the running times of the statements in the body of the loop\n",
    "    - Hence, running time is $T(n)=\\sum_{i=0}^{n}(1+1)=\\sum_{i=0}^{n}2= \\underbrace{2+2+...+2}_n=2n$\n",
    "  - Order of magnitude is $O(n)$\n",
    "\n",
    "- The running time of loops almost always translate to sums."
   ]
  },
  {
   "cell_type": "markdown",
   "metadata": {
    "slideshow": {
     "slide_type": "slide"
    }
   },
   "source": [
    "# Another example\n",
    "Obtaining the execution time of a simple program and its order of magnitude.\n",
    "```python\n",
    "a=5    # each takes some constant time\n",
    "b=6\n",
    "c=10\n",
    "for i in range(n):  \n",
    "   for j in range(n):  \n",
    "      x = i * i   # each takes some constant time\n",
    "      y = j / j\n",
    "      z = i + j\n",
    "for k in range(n): \n",
    "   w = a*k + 45  # each takes some constant time\n",
    "   v = b*b\n",
    "d = 33  \n",
    "```"
   ]
  },
  {
   "cell_type": "markdown",
   "metadata": {
    "slideshow": {
     "slide_type": "fragment"
    }
   },
   "source": [
    "- Running time: \n",
    "$$\n",
    "𝑇(𝑛)=3+(\\sum_{i=0}^{n}\\sum_{j=0}^{n}3)+(\\sum_{k=0}^{n}2)+1=3𝑛^2+2𝑛+4\n",
    "$$\n",
    "- Order of magnitute: \n",
    "$$\n",
    "O(n^2)\n",
    "$$"
   ]
  },
  {
   "cell_type": "markdown",
   "metadata": {
    "slideshow": {
     "slide_type": "slide"
    }
   },
   "source": [
    "# Discussion questions\n",
    "- Give the execution time $T(n)$ and Big-O performance (aka \"order of magnitude/growth\") for each of the following code fragments:"
   ]
  },
  {
   "cell_type": "markdown",
   "metadata": {
    "slideshow": {
     "slide_type": "subslide"
    }
   },
   "source": [
    "```python\n",
    "for i in range(n):\n",
    "    for j in range(n):\n",
    "        k = 2 + 2\n",
    "for i in range(n):\n",
    "    k = 2 + 2\n",
    "```"
   ]
  },
  {
   "cell_type": "markdown",
   "metadata": {
    "slideshow": {
     "slide_type": "fragment"
    }
   },
   "source": [
    "$T(n)=\\sum_{i=0}^{n}\\sum_{j=0}^{n}1+\\sum_{i=0}^{n}1=n^2+n$\n",
    "\n",
    "$O(n^2)$"
   ]
  },
  {
   "cell_type": "markdown",
   "metadata": {
    "slideshow": {
     "slide_type": "subslide"
    }
   },
   "source": [
    "```python\n",
    "i = 1\n",
    "while i < n:\n",
    "    k = 2 + 2\n",
    "    i *= 2\n",
    "```\n",
    "Or alternatively:\n",
    "```python\n",
    "for i in (2**exp for exp in range(int(math.log(n, 2)))):\n",
    "    k = 2 + 2\n",
    "```"
   ]
  },
  {
   "cell_type": "code",
   "execution_count": 12,
   "metadata": {
    "slideshow": {
     "slide_type": "skip"
    }
   },
   "outputs": [
    {
     "name": "stdout",
     "output_type": "stream",
     "text": [
      "1\n",
      "2\n",
      "4\n"
     ]
    }
   ],
   "source": [
    "import math\n",
    "\n",
    "n=10\n",
    "for i in (2**exp for exp in range(int(math.log(n, 2)))):\n",
    "    print(i)"
   ]
  },
  {
   "cell_type": "markdown",
   "metadata": {
    "slideshow": {
     "slide_type": "fragment"
    }
   },
   "source": [
    "- Notice that $i$ grows exponentially\n",
    "- Let's then make $i=2^p$, with $p$ starting from 0, incrementing by 1, and ending at $\\log n$\n",
    "- The loop then becomes\n",
    "```python\n",
    "while p<log(n):\n",
    "    k=2+2\n",
    "    p += 1\n",
    "```\n",
    "Therefore:\n",
    "- Running time is: $T(n)=1+\\sum_{p=0}^{\\log n}1 = 1+\\log n$\n",
    "- Order of magniture Is: $O(\\log n)$"
   ]
  },
  {
   "cell_type": "markdown",
   "metadata": {
    "slideshow": {
     "slide_type": "subslide"
    }
   },
   "source": [
    "```python\n",
    "for i in range(n):\n",
    "    for j in range(n):\n",
    "        k = 2 + 2\n",
    "for i in range(n):\n",
    "    k = 2 + 2\n",
    "i = n\n",
    "while i > 0:\n",
    "    k = 2 + 2\n",
    "    i = i // 2\n",
    "```"
   ]
  },
  {
   "cell_type": "markdown",
   "metadata": {
    "slideshow": {
     "slide_type": "fragment"
    }
   },
   "source": [
    "- For the first two blocks of loops we have $T_1(n) = n^2+n$\n",
    "- For the assignment statement and the while loop, notice that $i={2^p}$, with $p$ starting from $\\log n$, and getting decremented by 1. Hence, we have:\n",
    "```python\n",
    "p = log(n)\n",
    "while p>0:\n",
    "    k = 2+2\n",
    "    p -= 1\n",
    "```\n",
    "- Therefore, the running time for this block is $T_2(n)=1+(\\sum_{p=\\log n}^{0}1)=1+\\log n$\n",
    "- The total running time is: $T_1(n)+T_2(n)= n^2+n + 1+\\log n$\n",
    "- The order of magnitude is: $O(n^2)$"
   ]
  },
  {
   "cell_type": "markdown",
   "metadata": {
    "slideshow": {
     "slide_type": "subslide"
    }
   },
   "source": [
    "```python\n",
    "i, j = 0, 1\n",
    "while i<n:\n",
    "    while j <n:\n",
    "        a = b+c\n",
    "        j *= 2\n",
    "    i += 1\n",
    "```"
   ]
  },
  {
   "cell_type": "markdown",
   "metadata": {
    "slideshow": {
     "slide_type": "fragment"
    }
   },
   "source": [
    "$T(n)=2+\\sum_{i=0}^{n}(\\sum_{p=0}^{\\log n}1)=2+(\\sum_{i=0}^{n}\\log n)= 2+n\\log n$\n",
    "\n",
    "$O(n\\log n)$"
   ]
  },
  {
   "cell_type": "markdown",
   "metadata": {
    "slideshow": {
     "slide_type": "subslide"
    }
   },
   "source": [
    "```python\n",
    "for i in range(n):\n",
    "    for j in range(n):\n",
    "        k = 2 + 2\n",
    "k = n\n",
    "for p in range(n):\n",
    "    while k > 0:\n",
    "            k = k // 2 \n",
    "```"
   ]
  },
  {
   "cell_type": "markdown",
   "metadata": {
    "slideshow": {
     "slide_type": "fragment"
    }
   },
   "source": [
    "$T(n) = n^2+1+\\sum_{p=0}^{n}(\\sum_{r=\\log n}^{0}1)=n^2+1+(\\sum_{p=0}^{n}\\log n)=n^2+1+n\\log n$\n",
    "\n",
    "$O(n^2)$"
   ]
  },
  {
   "cell_type": "markdown",
   "metadata": {
    "slideshow": {
     "slide_type": "subslide"
    }
   },
   "source": [
    "```python\n",
    "for i in range(n):\n",
    "    k = 2 + 2\n",
    "for j in range(n):\n",
    "    k = 2 + 2\n",
    "for k in range(n):\n",
    "    k = 2 + 2\n",
    "```"
   ]
  },
  {
   "cell_type": "markdown",
   "metadata": {
    "slideshow": {
     "slide_type": "fragment"
    }
   },
   "source": [
    "$T(n)=\\sum_{i=0}^{n}1+\\sum_{j=0}^{n}1+\\sum_{k=0}^{n}1=n+n+n=3n$\n",
    "\n",
    "$O(n)$"
   ]
  },
  {
   "cell_type": "markdown",
   "metadata": {
    "slideshow": {
     "slide_type": "slide"
    }
   },
   "source": [
    "Consider the following blocks of code. \n",
    "- which one has the **shortest** running time?\n",
    "- which one has the **longest** running time? \n",
    "\n",
    "[http://bit.ly/2kEOVZB](http://bit.ly/2kEOVZB)\n",
    "    \n",
    "\n",
    "```python\n",
    "# BLOCK A \n",
    "i = n\n",
    "while i > 0:\n",
    "    k = 2 + 2\n",
    "    i = i // 2\n",
    "\n",
    "# BLOCK B \n",
    "for i in range(n):\n",
    "    k = 2 + 2\n",
    "for j in range(n):\n",
    "    k = 2 + 2\n",
    "for k in range(n):\n",
    "    k = 2 + 2\n",
    "    \n",
    "# BLOCk C \n",
    "i, j = 0, 0\n",
    "while i<n:\n",
    "    while j <n:\n",
    "        a = b+c\n",
    "        j *= 2\n",
    "    i += 1\n",
    "```"
   ]
  },
  {
   "cell_type": "markdown",
   "metadata": {
    "slideshow": {
     "slide_type": "slide"
    }
   },
   "source": [
    "# Performance of Python data structures\n",
    "- Now that we have a general idea of Big-O notation, let's study the performance of two commonly used Python data structures: \n",
    "  - **lists**\n",
    "  - **dictionaries**\n",
    "- These two structures are the building blocks we will use to implement other data structures\n",
    "- Later in the course we'll study how different implementations of lists and dictionaries affect performance."
   ]
  },
  {
   "cell_type": "markdown",
   "metadata": {
    "slideshow": {
     "slide_type": "slide"
    }
   },
   "source": [
    "# Lists\n",
    "- The designers of Python looked at how programmers would most commonly use lists and then optimized their implementation of a list so that the most common operations were very fast.\n",
    "- Common list operators: \n",
    "\n",
    "\n",
    "|Operator|Order of growth |\n",
    "|:-|:-|\n",
    "|indexing, e.g., `a[i]*10`|  $O(1)$|\n",
    "|assigning to an index position, e.g.,  `a[i] = x`|$O(1)$|\n",
    "|grow a list by appending, e.g, `a.append(4)`| $O(1)$|\n",
    "|grow a list by concatenation,  e.g, `a+b`| $O(k)$, where, `k` is the length of `b`|"
   ]
  },
  {
   "cell_type": "markdown",
   "metadata": {
    "slideshow": {
     "slide_type": "skip"
    }
   },
   "source": [
    "Notice that\n",
    "- $O(1)$ represents \"constant time\"\n",
    "- in $O(k)$, $k represents the size of the other parameter, e.g., the size of the concatenated list."
   ]
  },
  {
   "cell_type": "markdown",
   "metadata": {
    "slideshow": {
     "slide_type": "slide"
    }
   },
   "source": [
    "# The performance of other list operators\n",
    "  - The textbook lists the Big-O efficiency of [some list operators](https://runestone.academy/runestone/static/pythonds/AlgorithmAnalysis/Lists.html)\n",
    "  - Let's design an experiment to analyse the performance of Python's list constructors. \n",
    "\n",
    "Experimental set up:\n",
    "1. Build functions that use the list constructors `+`, `append`, list comprehension, and `list`\n",
    "2. Time those functions.\n",
    "3. Plot the results and try to infer the Big-O efficiency of those operators."
   ]
  },
  {
   "cell_type": "markdown",
   "metadata": {
    "slideshow": {
     "slide_type": "slide"
    }
   },
   "source": [
    "# Definining functions for testing list operators\n",
    "#  \n",
    "```python\n",
    "\n",
    "def test1(n):\n",
    "    l = []\n",
    "    for i in range(n):\n",
    "        l = l + [i]\n",
    "\n",
    "def test2(n):\n",
    "    l = []\n",
    "    for i in range(n):\n",
    "        l.append(i)\n",
    "\n",
    "def test3(n):\n",
    "    l = [i for i in range(n)]\n",
    "\n",
    "def test4(n):\n",
    "    l = list(range(n))\n",
    "```"
   ]
  },
  {
   "cell_type": "markdown",
   "metadata": {
    "slideshow": {
     "slide_type": "slide"
    }
   },
   "source": [
    "# Timing the operators\n"
   ]
  },
  {
   "cell_type": "code",
   "execution_count": 2,
   "metadata": {
    "slideshow": {
     "slide_type": "skip"
    }
   },
   "outputs": [],
   "source": [
    "import matplotlib.pyplot as plt\n",
    "import timeit\n",
    "\n",
    "def test1(n):\n",
    "    l = []\n",
    "    for i in range(n):\n",
    "        l = l + [i]\n",
    "\n",
    "def test2(n):\n",
    "    l = []\n",
    "    for i in range(n):\n",
    "        l.append(i)\n",
    "\n",
    "def test3(n):\n",
    "    l = [i for i in range(n)]\n",
    "\n",
    "def test4(n):\n",
    "    l = list(range(n))\n"
   ]
  },
  {
   "cell_type": "code",
   "execution_count": 3,
   "metadata": {
    "slideshow": {
     "slide_type": "fragment"
    }
   },
   "outputs": [
    {
     "name": "stdout",
     "output_type": "stream",
     "text": [
      "concat  2.235343694999756 milliseconds\n",
      "append  0.13750394499948015 milliseconds\n",
      "comprehension  0.06403432399929443 milliseconds\n",
      "list range  0.031868587000644766 milliseconds\n"
     ]
    }
   ],
   "source": [
    "import timeit\n",
    "\n",
    "n = 1000 # List size\n",
    "\n",
    "t1 = timeit.Timer(\"test1(n)\", \"from __main__ import test1, n\")\n",
    "print(\"concat \",t1.timeit(number=1000), \"milliseconds\")\n",
    "\n",
    "t2 = timeit.Timer(\"test2(n)\", \"from __main__ import test2, n\")\n",
    "print(\"append \",t2.timeit(number=1000), \"milliseconds\")\n",
    "\n",
    "t3 = timeit.Timer(\"test3(n)\", \"from __main__ import test3, n\")\n",
    "print(\"comprehension \",t3.timeit(number=1000), \"milliseconds\")\n",
    "\n",
    "t4 = timeit.Timer(\"test4(n)\", \"from __main__ import test4, n\")\n",
    "print(\"list range \",t4.timeit(number=1000), \"milliseconds\")"
   ]
  },
  {
   "cell_type": "markdown",
   "metadata": {
    "slideshow": {
     "slide_type": "notes"
    }
   },
   "source": [
    "The statement `from __main__ import test1` imports the function test1 from the `__main__` namespace into the namespace that timeit sets up for the timing experiment. The `timeit` module does this because it wants to run the timing tests in an environment that is uncluttered by any stray variables you may have created, that may interfere with your function’s performance in some unforeseen way.\n",
    "\n",
    "To be able to infer the Big-O efficiency of the constructors we need to use them on lists of various sizes, time their execution, and find a way to visualize the results."
   ]
  },
  {
   "cell_type": "markdown",
   "metadata": {
    "slideshow": {
     "slide_type": "slide"
    }
   },
   "source": [
    "# Timing the operators (revisited)\n",
    "\n",
    "- We cannot infer the Big-O efficiency of an operator by timing it only on a list of a given size\n",
    "- We need to time it on **lists of various sizes**, then obtain the average time\n",
    "\n",
    "**Discussion question**: How do we implement that?"
   ]
  },
  {
   "cell_type": "markdown",
   "metadata": {
    "slideshow": {
     "slide_type": "subslide"
    }
   },
   "source": [
    "```python\n",
    "y1 = []\n",
    "y2 = []\n",
    "y3 = []\n",
    "y4 = []\n",
    "reps = 10\n",
    "for i in range(10, 1000, 10):\n",
    "    y1acc = 0\n",
    "    y2acc = 0\n",
    "    y3acc = 0\n",
    "    y4acc = 0\n",
    "    for j in range(reps):\n",
    "        t1 = timeit.Timer(\"test1(%d)\"%i, \"from __main__ import test1, i\")\n",
    "        t2 = timeit.Timer(\"test2(%d)\"%i, \"from __main__ import test2, i\")\n",
    "        t3 = timeit.Timer(\"test3(%d)\"%i, \"from __main__ import test3, i\")\n",
    "        t4 = timeit.Timer(\"test4(%d)\"%i, \"from __main__ import test4, i\")\n",
    "        y1acc += t1.timeit(number=reps)\n",
    "        y2acc += t2.timeit(number=reps)\n",
    "        y3acc += t3.timeit(number=reps)\n",
    "        y4acc += t4.timeit(number=reps)\n",
    "    y1.append(y1acc/reps)\n",
    "    y2.append(y2acc/reps)\n",
    "    y3.append(y3acc/reps)\n",
    "    y4.append(y4acc/reps)\n",
    "```"
   ]
  },
  {
   "cell_type": "markdown",
   "metadata": {
    "slideshow": {
     "slide_type": "subslide"
    }
   },
   "source": [
    "# Finally, we plot the results and try to infer the Big-O efficiency"
   ]
  },
  {
   "cell_type": "code",
   "execution_count": 4,
   "metadata": {
    "slideshow": {
     "slide_type": "fragment"
    }
   },
   "outputs": [
    {
     "data": {
      "image/png": "[encoded data removed]",
      "text/plain": [
       "<Figure size 432x288 with 1 Axes>"
      ]
     },
     "metadata": {},
     "output_type": "display_data"
    }
   ],
   "source": [
    "x = list(range(10, 1000, 10))        \n",
    "plt.xlabel('List size')\n",
    "plt.ylabel('Time (in miliseconds)')\n",
    "plt.plot(x, y1, 'r+', label=\"concat\")\n",
    "plt.plot(x, y2, 'g+', label=\"append\")\n",
    "plt.plot(x, y3, 'b+', label=\"comprehension\")\n",
    "plt.plot(x, y4, 'm+', label=\"list range\")\n",
    "plt.legend()\n",
    "plt.show()"
   ]
  },
  {
   "cell_type": "code",
   "execution_count": 2,
   "metadata": {
    "slideshow": {
     "slide_type": "skip"
    }
   },
   "outputs": [
    {
     "data": {
      "image/png": "[encoded data removed]",
      "text/plain": [
       "<Figure size 432x288 with 1 Axes>"
      ]
     },
     "metadata": {},
     "output_type": "display_data"
    }
   ],
   "source": [
    "import matplotlib.pyplot as plt\n",
    "import timeit\n",
    "import random\n",
    "\n",
    "s = 10\n",
    "f = 1000\n",
    "step = 10\n",
    "#f = 10000\n",
    "#step = 100\n",
    "reps = 10\n",
    "\n",
    "def test1(n):\n",
    "    l = []\n",
    "    for i in range(n):\n",
    "        l = l + [i]\n",
    "\n",
    "def test2(n):\n",
    "    l = []\n",
    "    for i in range(n):\n",
    "        l.append(i)\n",
    "\n",
    "def test3(n):\n",
    "    l = [i for i in range(n)]\n",
    "\n",
    "def test4(n):\n",
    "    l = list(range(n))\n",
    "\n",
    "y1 = []\n",
    "y2 = []\n",
    "y3 = []\n",
    "y4 = []\n",
    "for i in range(s, f, step):\n",
    "    y1acc = 0\n",
    "    y2acc = 0\n",
    "    y3acc = 0\n",
    "    y4acc = 0\n",
    "    for j in range(reps):\n",
    "        t1 = timeit.Timer(\"test1(%d)\"%i, \"from __main__ import test1, i\")\n",
    "        t2 = timeit.Timer(\"test2(%d)\"%i, \"from __main__ import test2, i\")\n",
    "        t3 = timeit.Timer(\"test3(%d)\"%i, \"from __main__ import test3, i\")\n",
    "        t4 = timeit.Timer(\"test4(%d)\"%i, \"from __main__ import test4, i\")\n",
    "        y1acc += t1.timeit(number=reps)\n",
    "        y2acc += t2.timeit(number=reps)\n",
    "        y3acc += t3.timeit(number=reps)\n",
    "        y4acc += t4.timeit(number=reps)\n",
    "    y1.append(y1acc/reps)\n",
    "    y2.append(y2acc/reps)\n",
    "    y3.append(y3acc/reps)\n",
    "    y4.append(y4acc/reps)\n",
    "\n",
    "x = list(range(s, f, step))        \n",
    "plt.xlabel('List size')\n",
    "plt.ylabel('Time (in miliseconds)')\n",
    "plt.plot(x, y1, 'r+', label=\"concat\")\n",
    "plt.plot(x, y2, 'g+', label=\"append\")\n",
    "plt.plot(x, y3, 'b+', label=\"comprehension\")\n",
    "plt.plot(x, y4, 'm+', label=\"list range\")\n",
    "plt.legend()\n",
    "plt.show()"
   ]
  },
  {
   "cell_type": "markdown",
   "metadata": {
    "slideshow": {
     "slide_type": "slide"
    }
   },
   "source": [
    "# Dictionaries\n",
    "\n",
    "- Differ from lists for using a **key** instead of a **position** to access elements\n",
    "- The \"contains\" (`in`) operator is $O(1)$ whereas for lists this operator is $O(n)$\n",
    "\n",
    "Let's design an experiment to test whether the operator `in` for dictionaries is in fact more efficient than `in` for lists."
   ]
  },
  {
   "cell_type": "markdown",
   "metadata": {
    "slideshow": {
     "slide_type": "subslide"
    }
   },
   "source": [
    "```python\n",
    "import matplotlib.pyplot as plt\n",
    "import timeit\n",
    "import random\n",
    "\n",
    "yl = []\n",
    "yd = []\n",
    "rng = range(10000,1000001,20000)\n",
    "reps = 10\n",
    "for i in rng:\n",
    "    ylacc = 0\n",
    "    ydacc = 0\n",
    "    for j in range(reps):\n",
    "        t = timeit.Timer(\"random.randrange(%d) in x\"%i,\n",
    "                     \"from __main__ import random,x\")\n",
    "        x = list(range(i))\n",
    "        ylacc += t.timeit(number=10)\n",
    "        x = {j:None for j in range(i)}\n",
    "        ydacc += t.timeit(number=10)\n",
    "    yl.append(ylacc/reps)\n",
    "    yd.append(ydacc/reps)\n",
    "x = rng        \n",
    "plt.xlabel('Size')\n",
    "plt.ylabel('Time (in miliseconds)')\n",
    "plt.plot(x, yl, 'ro', label=\"List in\")\n",
    "plt.plot(x, yd, 'g^', label=\"Dict in\")\n",
    "plt.legend()\n",
    "plt.show()\n",
    "```"
   ]
  },
  {
   "cell_type": "markdown",
   "metadata": {
    "slideshow": {
     "slide_type": "subslide"
    }
   },
   "source": [
    "<img src=\"Figures/dict.png\" width=\"500\">"
   ]
  },
  {
   "cell_type": "code",
   "execution_count": null,
   "metadata": {
    "slideshow": {
     "slide_type": "skip"
    }
   },
   "outputs": [],
   "source": [
    "\n",
    "import matplotlib.pyplot as plt\n",
    "import timeit\n",
    "import random\n",
    "\n",
    "yl, ylacc = [], 0\n",
    "yd, ydacc = [], 0\n",
    "rng = range(10000,1000001,20000)\n",
    "reps = 10\n",
    "for i in rng:\n",
    "    for j in range(reps):\n",
    "        t = timeit.Timer(\"random.randrange(%d) in x\"%i,\n",
    "                     \"from __main__ import random,x\")\n",
    "        x = list(range(i))\n",
    "        ylacc += t.timeit(number=10)\n",
    "        x = {j:None for j in range(i)}\n",
    "        ydacc += t.timeit(number=10)\n",
    "    yl.append(ylacc/reps)\n",
    "    yd.append(ydacc/reps)\n",
    "x = rng        \n",
    "plt.xlabel('Size')\n",
    "plt.ylabel('Time (in miliseconds)')\n",
    "plt.plot(x, yl, 'ro', label=\"List in\")\n",
    "plt.plot(x, yd, 'g^', label=\"Dict in\")\n",
    "plt.legend()\n",
    "plt.show()"
   ]
  },
  {
   "cell_type": "markdown",
   "metadata": {
    "slideshow": {
     "slide_type": "slide"
    }
   },
   "source": [
    "# Discussion Exercise\n",
    "\n",
    "Devise an experiment to verify that the list index operator is 𝑂(1)"
   ]
  },
  {
   "cell_type": "markdown",
   "metadata": {
    "slideshow": {
     "slide_type": "subslide"
    }
   },
   "source": [
    "```python\n",
    "import matplotlib.pyplot as plt\n",
    "import timeit\n",
    "import random\n",
    "      \n",
    "y = []\n",
    "rng = range(10000,1000001,20000)\n",
    "reps = 10\n",
    "\n",
    "for i in rng:\n",
    "    ac = 0\n",
    "    x = list(range(i))\n",
    "    for j in range(reps):\n",
    "        t = timeit.Timer(\"x[%d]\"%random.randrange(i), \"from __main__ import random, x\")\n",
    "        ac += t.timeit(number=1000)\n",
    "    ac /= reps\n",
    "    y.append(ac)\n",
    "x = list(rng)        \n",
    "plt.xlabel('List size')\n",
    "plt.ylabel('Time to complete operation')\n",
    "plt.plot(x, y, 'ro', label=\"list index\")\n",
    "plt.legend()\n",
    "plt.show()\n",
    "```"
   ]
  },
  {
   "cell_type": "markdown",
   "metadata": {
    "slideshow": {
     "slide_type": "subslide"
    }
   },
   "source": [
    "<img src=\"Figures/index.png\" width=\"600\">"
   ]
  },
  {
   "cell_type": "markdown",
   "metadata": {
    "slideshow": {
     "slide_type": "slide"
    }
   },
   "source": [
    "# Discussion exercise\n",
    "\n",
    "Devise an experiment that compares the performance of the `del` operator on lists and dictionaries, and `pop(0)` on lists (it is supposed to be $O(n)$)"
   ]
  },
  {
   "cell_type": "code",
   "execution_count": null,
   "metadata": {
    "slideshow": {
     "slide_type": "skip"
    }
   },
   "outputs": [],
   "source": [
    "import matplotlib.pyplot as plt\n",
    "import timeit\n",
    "import random\n"
   ]
  },
  {
   "cell_type": "markdown",
   "metadata": {
    "slideshow": {
     "slide_type": "subslide"
    }
   },
   "source": [
    "```python\n",
    "yl = []\n",
    "yd = []\n",
    "ylp = []\n",
    "rng = range(10000,1000001,20000)\n",
    "reps = 10\n",
    "for i in rng:\n",
    "    ylacc = 0\n",
    "    ydacc = 0\n",
    "    ylpacc = 0    \n",
    "    for j in range(reps):\n",
    "        t = timeit.Timer(\"del x[random.randrange(%d)]\"%i,\"from __main__ import random,x\")\n",
    "        tpop = timeit.Timer(\"x.pop(0)\",\"from __main__ import x\")\n",
    "        x = list(range(i))\n",
    "        ylacc += t.timeit(number=10)\n",
    "        ylpacc += tpop.timeit(number=10)\n",
    "        x = {k:None for k in range(i)}\n",
    "        ydacc += t.timeit(number=10)\n",
    "    yl.append(ylacc/reps)\n",
    "    yd.append(ydacc/reps)\n",
    "    ylp.append(ylpacc/reps)\n",
    "x = rng        \n",
    "plt.xlabel('Size')\n",
    "plt.ylabel('Time (in miliseconds)')\n",
    "plt.plot(x, yl, 'ro', label=\"List del\")\n",
    "plt.plot(x, yd, 'g^', label=\"Dict del\")\n",
    "plt.plot(x, ylp, 'b+', label=\"pop(0) list\")\n",
    "plt.legend()\n",
    "plt.show()\n",
    "```"
   ]
  },
  {
   "cell_type": "markdown",
   "metadata": {
    "slideshow": {
     "slide_type": "subslide"
    }
   },
   "source": [
    "<img src=\"Figures/compare.png\" width=\"600\">"
   ]
  },
  {
   "cell_type": "markdown",
   "metadata": {
    "slideshow": {
     "slide_type": "notes"
    }
   },
   "source": [
    "Note: although `del` on lists appears to run on polynomial time, on average it actually runs in linear time, $O(n)$."
   ]
  },
  {
   "cell_type": "code",
   "execution_count": null,
   "metadata": {},
   "outputs": [],
   "source": []
  }
 ],
 "metadata": {
  "author": "mes",
  "celltoolbar": "Slideshow",
  "kernelspec": {
   "display_name": "Python 3",
   "language": "python",
   "name": "python3"
  },
  "language_info": {
   "codemirror_mode": {
    "name": "ipython",
    "version": 3
   },
   "file_extension": ".py",
   "mimetype": "text/x-python",
   "name": "python",
   "nbconvert_exporter": "python",
   "pygments_lexer": "ipython3",
   "version": "3.7.3"
  },
  "latex_envs": {
   "LaTeX_envs_menu_present": true,
   "autoclose": false,
   "autocomplete": true,
   "bibliofile": "biblio.bib",
   "cite_by": "apalike",
   "current_citInitial": 1,
   "eqLabelWithNumbers": true,
   "eqNumInitial": 1,
   "hotkeys": {
    "equation": "Ctrl-E",
    "itemize": "Ctrl-I"
   },
   "labels_anchors": false,
   "latex_user_defs": false,
   "report_style_numbering": false,
   "user_envs_cfg": false
  }
 },
 "nbformat": 4,
 "nbformat_minor": 2
}
