{
 "cells": [
  {
   "cell_type": "markdown",
   "metadata": {},
   "source": [
    "# CPS305 Fall 2019\n",
    "## Lab 08 Report\n",
    "## Sameer Naumani, Std ID 500703778\n",
    "\n",
    "11/7/2019\n",
    "\n",
    "# Introduction and Overall Comments\n",
    "\n",
    "The goal of this lab is to explore the concept of List of Lists and Trees were further implemented usng parsers. In this lab we implement a parser for parenthesized mathematical expressions including the unary operator \"!\". \n",
    " \n",
    "Overall, this provided a better understanding of parsing trees."
   ]
  },
  {
   "cell_type": "markdown",
   "metadata": {},
   "source": [
    "## Solution for exercise 1"
   ]
  },
  {
   "cell_type": "code",
   "execution_count": 7,
   "metadata": {},
   "outputs": [
    {
     "name": "stdout",
     "output_type": "stream",
     "text": [
      "-- ['+', ['+', ['4', [], []], ['3', [], []]], ['6', [], []]]\n"
     ]
    }
   ],
   "source": [
    "def precedence(oper):\n",
    "    if oper in ['+', '-']:\n",
    "        return 1\n",
    "    elif (oper == '!'):\n",
    "        return 3\n",
    "    else:\n",
    "        return 2\n",
    "\n",
    "def operatorp(x):\n",
    "    return x in ['+', '-', '/', '*', '!']\n",
    "\n",
    "def numberp(x):\n",
    "    return not operatorp(x)\n",
    "\n",
    "\n",
    "def parse(expr):\n",
    "    return parseHelper(expr, [], [])\n",
    "\n",
    "def parseHelper(expr, operators, operands):\n",
    "    if expr == []:\n",
    "        if operators == []:\n",
    "            return operands[0]\n",
    "        else:\n",
    "            return handleOp([], operators, operands)\n",
    "    \n",
    "    if isinstance(expr[0], list): \n",
    "        return parseHelper(expr[1:], operators, [parse(expr[0])]+operands)\n",
    "    \n",
    "    elif numberp(expr[0]):\n",
    "        return parseHelper(expr[1:], operators, [[expr[0], [], []]]+operands)\n",
    "    elif operators == [] or precedence(expr[0]) > precedence(operators[0]):\n",
    "        return parseHelper(expr[1:], [expr[0]]+operators, operands)\n",
    "    else:\n",
    "        return handleOp(expr, operators, operands)\n",
    "\n",
    "\n",
    "def handleOp(expr, operators, operands):\n",
    "    if(operators[0] == '!'):\n",
    "        return parseHelper(expr, operators[1:], [[operators[0], operands[0], []]]+operands[1:])\n",
    "    else:\n",
    "        return parseHelper(expr, operators[1:], [[operators[0], operands[1], operands[0]]]+operands[2:])\n",
    "\n",
    "#x= [['4', '+', '3'], '*', '7']\n",
    "#['*', ['+', ['4', [], []], ['3', [], []]], ['7', [], []]]\n",
    "#x = ['2', '!']\n",
    "#x=['3','/','6','-', '9']\n",
    "#x=['4', '+', '3', '*', '7']\n",
    "x=[['4'], '+', ['3'], '+', '6']\n",
    "#x = \"( 4 + 3 * 7 - 5 / ( 3 + 4 ) + 6 )\"\n",
    "print(\"--\", parse(x))\n",
    "\n",
    "\n",
    "\n",
    "\n"
   ]
  },
  {
   "cell_type": "markdown",
   "metadata": {},
   "source": [
    "**Discussion of the Results**\n",
    "In the program, the function parse takes in a list denoting a mathematical expression where each element of the list represents a token of the expression, and it returns a parse tree for the expression (in List of Lists notation). \n",
    "\n",
    "As per the results, the program checks the first index. If the first index is an operand it recurses through the program. If that index returns another list, then it will recursively parse that list again and return the mathematical expression of that list before proceeding further. If the index is a number, it returns the number. The overall function will return the mathematical expression in the order of operations."
   ]
  }
 ],
 "metadata": {
  "kernelspec": {
   "display_name": "Python 3",
   "language": "python",
   "name": "python3"
  },
  "language_info": {
   "codemirror_mode": {
    "name": "ipython",
    "version": 3
   },
   "file_extension": ".py",
   "mimetype": "text/x-python",
   "name": "python",
   "nbconvert_exporter": "python",
   "pygments_lexer": "ipython3",
   "version": "3.7.3"
  },
  "latex_envs": {
   "LaTeX_envs_menu_present": true,
   "autoclose": false,
   "autocomplete": true,
   "bibliofile": "biblio.bib",
   "cite_by": "apalike",
   "current_citInitial": 1,
   "eqLabelWithNumbers": true,
   "eqNumInitial": 1,
   "hotkeys": {
    "equation": "Ctrl-E",
    "itemize": "Ctrl-I"
   },
   "labels_anchors": false,
   "latex_user_defs": false,
   "report_style_numbering": false,
   "user_envs_cfg": false
  }
 },
 "nbformat": 4,
 "nbformat_minor": 2
}
