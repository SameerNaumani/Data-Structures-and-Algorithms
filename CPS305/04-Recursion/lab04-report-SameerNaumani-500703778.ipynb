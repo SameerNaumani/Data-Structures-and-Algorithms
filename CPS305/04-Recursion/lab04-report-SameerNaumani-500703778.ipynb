{
 "cells": [
  {
   "cell_type": "markdown",
   "metadata": {},
   "source": [
    "# CPS305 Fall 2019\n",
    "## Lab 04 Report\n",
    "## Sameer Naumani, Std ID 500703778\n",
    "\n",
    "3/10/2019\n",
    "\n",
    "# Introduction and Overall Comments\n",
    "\n",
    "The goal of this lab is to explore recursion. In excercise one we utilize turtle library to recursively draw out a tree. The tree was mapped out using randomized angle value parameters for right and left traces as well as recursive branch length. The second excercise asks to solve various porblems using recursion. The first problem asked for implementing the power function using tail recursive. The second problem was an enhanced version of this function. The final problem was implementing binomial coefficients using recursion\n",
    "\n",
    "Overall the first excercise took a lot of time but overall the lab enhanced understanding of recursion."
   ]
  },
  {
   "cell_type": "markdown",
   "metadata": {},
   "source": [
    "## Solution for exercise 1"
   ]
  },
  {
   "cell_type": "code",
   "execution_count": null,
   "metadata": {},
   "outputs": [],
   "source": [
    "# Repeatedly calls generate and score while 100% of the letters do not match the target string\n",
    "# If the letters are not correct then it will generate a whole new string.\n",
    "# To make it easier to follow the program's progress it prints out the best\n",
    "# string generated so far and its score every 10000 number of tries.\n",
    "\n",
    "import turtle\n",
    "import random\n",
    "\n",
    "# modify width\n",
    "# modify color so when branch length get very short make it green\n",
    "# modify angle so that it is chosen at random between 15 and 45\n",
    "# modify branchLen recursively so that you subtract by a random len each time\n",
    "\n",
    "\n",
    "def tree(branchLen,t):\n",
    "    if branchLen > 10:\n",
    "        width = branchLen/10\n",
    "        t.width(width)\n",
    "\n",
    "        rightA = random.randrange(15,45) #Random angle generator\n",
    "        leftA = random.randrange(15,45)\n",
    "        leftLen = random.randrange(10,15) #Random length generator\n",
    "        rightLen = random.randrange(10,15)\n",
    "        \n",
    "        t.forward(branchLen)\n",
    "        t.right(rightA)\n",
    "        tree(branchLen - rightLen,t)\n",
    "        t.width(width - 1)\n",
    "        t.left(rightA + leftA)\n",
    "        tree(branchLen - leftLen, t)\n",
    "        t.width(width - 1)\n",
    "        t.right(leftA)\n",
    "        if (branchLen > 25):\n",
    "            t.color(\"brown\")\n",
    "        if (branchLen < 25):\n",
    "            t.color(\"green\")\n",
    "        t.backward(branchLen)\n",
    "\n",
    "\n",
    "\n",
    "def main():\n",
    "    t = turtle.Turtle()\n",
    "    myWin = turtle.Screen()\n",
    "    t.left(90)\n",
    "    t.up()\n",
    "    t.backward(100)\n",
    "    t.down()\n",
    "    t.color(\"green\")\n",
    "    tree(75,t)\n",
    "    myWin.exitonclick()\n",
    "\n",
    "main()\n"
   ]
  },
  {
   "cell_type": "markdown",
   "metadata": {},
   "source": [
    "**Discussion of the Results**\n",
    "In excercise one the task is to use python's turtle library and recursively draw a tree. The additional requirements are the following:\n",
    "\n",
    "Modify the thickness of the branches so that as the branchLen gets smaller, the line gets thinner.\n",
    "As seen in the results, the tree becomes thinner as it branches out to its leaves and is thicker at the root.\n",
    "\n",
    "Modify the color of the branches so that as the branchLen gets very short it is colored like a leaf.\n",
    "The color of the base of the tree is brown while the leaves are all green\n",
    "\n",
    "Modify the angle used in turning the turtle so that at each branch point the angle is selected at random in some range. For example choose the angle between 15 and 45 degrees. Play around to see what looks good.\n",
    "Modify the branchLen randomly so that instead of always subtracting the same amount you subtract a random amount in some range.\n",
    "\n",
    "The randomization of the parameters proved to be a little tricky since sometimes undesirable numbers or numbers below 0 were obtained. This was fixed by choosing appropriate ranges and values.\n",
    "..."
   ]
  },
  {
   "cell_type": "markdown",
   "metadata": {},
   "source": [
    "## Solution for Exercise 2"
   ]
  },
  {
   "cell_type": "code",
   "execution_count": 5,
   "metadata": {
    "scrolled": true
   },
   "outputs": [
    {
     "name": "stdout",
     "output_type": "stream",
     "text": [
      "32\n",
      "32\n",
      "6\n",
      "2\n",
      "10\n"
     ]
    }
   ],
   "source": [
    "#1\n",
    "def power(x,n,acc=1):\n",
    "    if(n==0):\n",
    "        return 1 \n",
    "    elif(n == 1):\n",
    "        return x*acc\n",
    "    else:\n",
    "        return x * power(x, n - 1,acc)\n",
    "        \n",
    "print(power(2,5))\n",
    "\n",
    "#2\n",
    "def powerH(x,n, acc = 1):\n",
    "\n",
    "    if n == 0:\n",
    "        return acc\n",
    "\n",
    "    if n == 1:\n",
    "        return acc * x\n",
    "\n",
    "    elif n % 2 != 0:\n",
    "        return powerH(x*x, (n - 1) // 2, acc * x)\n",
    "\n",
    "    else:\n",
    "        return powerH(x*x, n // 2, acc)\n",
    "\n",
    "print(powerH(2,5))\n",
    "\n",
    "\n",
    "#3\n",
    "def C(n,k):\n",
    "    assert n>=0, \"Does not work for n<0\"\n",
    "    assert k>=0 and k<=n, \"Undefined for these values k<0 , k>n\"\n",
    "    if k == 0 or k ==n:\n",
    "        return 1\n",
    "    else:\n",
    "        return C(n-1,k-1) + C(n-1,k)\n",
    "\n",
    "print(C(4,2))\n",
    "print(C(2,1))\n",
    "print(C(5,2))\n",
    "print(C)\n"
   ]
  },
  {
   "cell_type": "markdown",
   "metadata": {},
   "source": [
    "**Discussion of the Results**\n",
    "\n",
    "The three functions of excercise 2 explore recursion and tail recursion. The first two functions recursively implement the power function. The results are both accurate and correctly compute the power. Further tests can be viewed in the test.py file.\n",
    "\n",
    "The final function computes the binomial coefficients based on the base cases given in the problem. It reduces the problem to return a value as long as k is 0 or k is equal to the parameter given. Assertions were added for computations that are undefined such as wehn n<0 or when k<0 and k>n. The function works correctly and is also tested in the test.py file. All test cases return what we expect.\n",
    "    \n",
    "..."
   ]
  }
 ],
 "metadata": {
  "kernelspec": {
   "display_name": "Python 3",
   "language": "python",
   "name": "python3"
  },
  "language_info": {
   "codemirror_mode": {
    "name": "ipython",
    "version": 3
   },
   "file_extension": ".py",
   "mimetype": "text/x-python",
   "name": "python",
   "nbconvert_exporter": "python",
   "pygments_lexer": "ipython3",
   "version": "3.7.3"
  },
  "latex_envs": {
   "LaTeX_envs_menu_present": true,
   "autoclose": false,
   "autocomplete": true,
   "bibliofile": "biblio.bib",
   "cite_by": "apalike",
   "current_citInitial": 1,
   "eqLabelWithNumbers": true,
   "eqNumInitial": 1,
   "hotkeys": {
    "equation": "Ctrl-E",
    "itemize": "Ctrl-I"
   },
   "labels_anchors": false,
   "latex_user_defs": false,
   "report_style_numbering": false,
   "user_envs_cfg": false
  }
 },
 "nbformat": 4,
 "nbformat_minor": 2
}
