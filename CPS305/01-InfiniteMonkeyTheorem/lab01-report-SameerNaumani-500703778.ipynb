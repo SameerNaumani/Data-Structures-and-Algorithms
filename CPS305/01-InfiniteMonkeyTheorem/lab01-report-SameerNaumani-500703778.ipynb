{
 "cells": [
  {
   "cell_type": "markdown",
   "metadata": {},
   "source": [
    "# CPS305 Fall 2019\n",
    "## Lab 01 Report\n",
    "## Sameer Naumani, Std ID 500703778\n",
    "\n",
    "12/9/2019\n",
    "\n",
    "# Introduction and Overall Comments\n",
    "\n",
    "The goal of this lab is to explore the infinite monkey theorem using python functions. The theorem states that a monkey hitting keys at random on a typewriter keyboard for an infinite amount of time will almost surely type a given text, such as the complete works of William Shakespeare. The following python code runs this experiment by generating random letters from the alphabet and comparing it to our target sentence. The target sentence is: “methinks it is like a weasel”.\n",
    "\n",
    "The program will then compare the random letters to our target sentence and will score each try. If the score is not 100% it will try again, constantly updating the best score and letters every 100 tries. As expected, this can take a very long time to finally complete depending on the target string but in the end it was able to prove the thereom.\n",
    "\n",
    "Overall the python function was able to find a perfect match eventually but it took a very large amount of iterations to do so and thus a very long time."
   ]
  },
  {
   "cell_type": "markdown",
   "metadata": {},
   "source": [
    "## Solution for exercise 1"
   ]
  },
  {
   "cell_type": "code",
   "execution_count": 54,
   "metadata": {
    "scrolled": true
   },
   "outputs": [
    {
     "name": "stdout",
     "output_type": "stream",
     "text": [
      "String   Score  Try\n",
      "leapiextfwsuxsrdknokxgcpjdgs    10.714286 0\n",
      "methinks it isolike a weasel    96.428571 100\n",
      "methinks it is like a weasel    100.000000 145\n"
     ]
    },
    {
     "data": {
      "image/png": "[encoded data removed]",
      "text/plain": [
       "<Figure size 432x288 with 1 Axes>"
      ]
     },
     "metadata": {
      "needs_background": "light"
     },
     "output_type": "display_data"
    }
   ],
   "source": [
    "from mySolution import monkeyTypist\n",
    "\n",
    "monkeyTypist()"
   ]
  },
  {
   "cell_type": "markdown",
   "metadata": {},
   "source": [
    "**Discussion of the Results**\n",
    "The results show that the solution can be solved despite the very large amount of iterations. In one execution of the program it only took 127 tries to complete. The reason being the code has been optimized so that every time a letter is typed correctly it remains in memory, and the incorrect letters are randomly typed. In the normal case it would take over a millio tries to complete if we generated a new random string each time.\n",
    "\n",
    "..."
   ]
  },
  {
   "cell_type": "markdown",
   "metadata": {},
   "source": [
    "## Solution for Exercise 2"
   ]
  },
  {
   "cell_type": "code",
   "execution_count": 52,
   "metadata": {},
   "outputs": [
    {
     "name": "stderr",
     "output_type": "stream",
     "text": [
      ".."
     ]
    },
    {
     "name": "stdout",
     "output_type": "stream",
     "text": [
      "28\n",
      "28\n",
      "28\n",
      "28\n",
      "28\n",
      "28\n",
      "28\n",
      "28\n",
      "28\n",
      "28\n",
      "28\n"
     ]
    },
    {
     "name": "stderr",
     "output_type": "stream",
     "text": [
      "\n",
      "----------------------------------------------------------------------\n",
      "Ran 2 tests in 0.015s\n",
      "\n",
      "OK\n"
     ]
    }
   ],
   "source": [
    "# Python code and its output\n",
    "# Test cases\n",
    "\n",
    "import unittest\n",
    "from mySolution import generate\n",
    "from mySolution import calcScore\n",
    "\n",
    "class TestGenerate(unittest.TestCase):\n",
    "\n",
    "  ######## test to see if the generator generates the correct number of terms ########3\n",
    "    def test_generate(self):\n",
    "        target = \"methinks it is like a weasel\"\n",
    "        lenS = len(target)\n",
    "        print(lenS)\n",
    "        alphabet = list(\"abcdefghijklmnopqrstuvwxyz\")\n",
    "        lenA = len(alphabet)\n",
    "        for i in range(10):\n",
    "            string = generate(lenS, lenA, alphabet)\n",
    "            print(len(string))\n",
    "            self.assertEqual(len(string), lenS, \"Should be equal to 28\")\n",
    "       \n",
    "    def test_score(self):\n",
    "        data = calcScore(\"heddo\", \"hello\")\n",
    "        self.assertTrue(50.0)\n",
    "    \n",
    "\n",
    "if __name__ == '__main__':\n",
    "    unittest.main(argv=['first-arg-is-ignored'], exit=False)\n",
    "    # if running the above from the REPL use unittest.main() instead\n",
    "    \n",
    "    \n",
    "\n",
    "   "
   ]
  },
  {
   "cell_type": "markdown",
   "metadata": {},
   "source": [
    "**Discussion of the Results**\n",
    "\n",
    "The lab report also contains a test.py file which was used to conduct unit tests to complete this program. The first test, tested the generate() function to make sure the generated string is the same length as the target string. The second test, tested the calcScore function which made sure the division was correctly done.\n",
    "    \n",
    "..."
   ]
  }
 ],
 "metadata": {
  "kernelspec": {
   "display_name": "Python 3",
   "language": "python",
   "name": "python3"
  },
  "language_info": {
   "codemirror_mode": {
    "name": "ipython",
    "version": 3
   },
   "file_extension": ".py",
   "mimetype": "text/x-python",
   "name": "python",
   "nbconvert_exporter": "python",
   "pygments_lexer": "ipython3",
   "version": "3.7.3"
  },
  "latex_envs": {
   "LaTeX_envs_menu_present": true,
   "autoclose": false,
   "autocomplete": true,
   "bibliofile": "biblio.bib",
   "cite_by": "apalike",
   "current_citInitial": 1,
   "eqLabelWithNumbers": true,
   "eqNumInitial": 1,
   "hotkeys": {
    "equation": "Ctrl-E",
    "itemize": "Ctrl-I"
   },
   "labels_anchors": false,
   "latex_user_defs": false,
   "report_style_numbering": false,
   "user_envs_cfg": false
  }
 },
 "nbformat": 4,
 "nbformat_minor": 2
}
