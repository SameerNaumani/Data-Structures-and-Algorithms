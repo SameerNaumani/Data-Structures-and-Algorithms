{
 "cells": [
  {
   "cell_type": "markdown",
   "metadata": {},
   "source": [
    "# CPS305 Fall 2019\n",
    "## Lab 03 Report\n",
    "## Sameer Naumani, Std ID 500703778\n",
    "\n",
    "27/9/2019\n",
    "\n",
    "# Introduction and Overall Comments\n",
    "\n",
    "The goal of this lab is to explore stacks and infix/postfix notation. The goal was to implement a infixToPostfixEval function that takes in a string representing a mathematical expression in infixnotation and returns two things: a string representing the expression in postfix notation and its value. Validoperands consist of the digits 0 to 9, and operators are the operators (, ), +, -, *, /, and the unary factorialoperator !. \n",
    "\n",
    "Overall the lab took understanding of how postfix and infix functions work and the test cases were used to test the validity of the functions."
   ]
  },
  {
   "cell_type": "markdown",
   "metadata": {},
   "source": [
    "## Solution for exercise 1"
   ]
  },
  {
   "cell_type": "code",
   "execution_count": 1,
   "metadata": {
    "scrolled": true
   },
   "outputs": [
    {
     "name": "stdout",
     "output_type": "stream",
     "text": [
      "('2 2 + ! 8 +', 'Evaluates to: ', 32)\n"
     ]
    }
   ],
   "source": [
    "from mySolution import infixToPostfixEval\n",
    "\n",
    "print(infixToPostfixEval(\"( 2 + 2 ) ! + 8\"))"
   ]
  },
  {
   "cell_type": "markdown",
   "metadata": {},
   "source": [
    "**Discussion of the Results**\n",
    "The results show the correct solution. The expression is first converted to postfix notation and then it is evaluated. If the the expression does not have numbers or cannot be mathematically expressed, it will result in an error and the code will return 'cannot be evaluated'. See test cases below.\n",
    "\n",
    "..."
   ]
  },
  {
   "cell_type": "markdown",
   "metadata": {},
   "source": [
    "## Solution for Exercise 2"
   ]
  },
  {
   "cell_type": "code",
   "execution_count": 2,
   "metadata": {},
   "outputs": [
    {
     "name": "stderr",
     "output_type": "stream",
     "text": [
      "......\n",
      "----------------------------------------------------------------------\n",
      "Ran 6 tests in 0.008s\n",
      "\n",
      "OK\n"
     ]
    }
   ],
   "source": [
    "import unittest\n",
    "from mySolution import doMath\n",
    "from mySolution import infixToPostfixEval\n",
    "\n",
    "class TestGenerate(unittest.TestCase):\n",
    "\n",
    "  ######## test do_math ########3\n",
    "    def test_math(self):\n",
    "        data = doMath(\"*\" , 4, 4)\n",
    "        self.assertEqual(data, 16)\n",
    "    \n",
    "    def test_math2(self):\n",
    "        data2 = doMath(\"-\", 10,4)\n",
    "        self.assertEqual(data2,6)\n",
    "        \n",
    "    def test_math3(self):\n",
    "        data3 = doMath(\"/\",15,5)\n",
    "        self.assertEqual(data3,3)\n",
    "        \n",
    "    def test_Eval(self):\n",
    "        data = infixToPostfixEval(\"( 2 + 2 ) ! + 8\")\n",
    "        self.assertEqual(data, ('2 2 + ! 8 +', 'Evaluates to: ', 32))\n",
    "        \n",
    "    def test_Eval2(self):\n",
    "        data = infixToPostfixEval(\"A * B + C * D\")\n",
    "        self.assertEqual(data, \"Cannot be evaluated\")\n",
    "        \n",
    "    def test_Eval3(self):\n",
    "        data = infixToPostfixEval(\"2 * B + C * D\")\n",
    "        self.assertEqual(data, \"Cannot be evaluated\")\n",
    "        \n",
    "        \n",
    "    \n",
    "\n",
    "if __name__ == '__main__':\n",
    "    unittest.main(argv=['first-arg-is-ignored'], exit=False)\n",
    "    # if running the above from the REPL use unittest.main() instead"
   ]
  },
  {
   "cell_type": "markdown",
   "metadata": {},
   "source": [
    "**Discussion of the Results**\n",
    "\n",
    "The lab report also contains a test.py file which was used to conduct unit tests to complete this program. The first 3 tests, tested the doMath function to see if the math operators were correctly being computed within the stack.\n",
    "\n",
    "The last 3 tests, tested the actual infixToPostfixEval function to check the overall functionality. It tested a proper numerical input and also tested for incorrect inputs.\n",
    "    \n",
    "..."
   ]
  }
 ],
 "metadata": {
  "kernelspec": {
   "display_name": "Python 3",
   "language": "python",
   "name": "python3"
  },
  "language_info": {
   "codemirror_mode": {
    "name": "ipython",
    "version": 3
   },
   "file_extension": ".py",
   "mimetype": "text/x-python",
   "name": "python",
   "nbconvert_exporter": "python",
   "pygments_lexer": "ipython3",
   "version": "3.7.3"
  },
  "latex_envs": {
   "LaTeX_envs_menu_present": true,
   "autoclose": false,
   "autocomplete": true,
   "bibliofile": "biblio.bib",
   "cite_by": "apalike",
   "current_citInitial": 1,
   "eqLabelWithNumbers": true,
   "eqNumInitial": 1,
   "hotkeys": {
    "equation": "Ctrl-E",
    "itemize": "Ctrl-I"
   },
   "labels_anchors": false,
   "latex_user_defs": false,
   "report_style_numbering": false,
   "user_envs_cfg": false
  }
 },
 "nbformat": 4,
 "nbformat_minor": 2
}
