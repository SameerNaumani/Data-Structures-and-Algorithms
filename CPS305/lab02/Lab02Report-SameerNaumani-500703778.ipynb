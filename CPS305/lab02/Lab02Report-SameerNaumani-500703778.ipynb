{
 "cells": [
  {
   "cell_type": "markdown",
   "metadata": {},
   "source": [
    "# CPS305 Fall 2019\n",
    "## Lab 02 Report\n",
    "## Sameer Naumani, Std ID 500703778\n",
    "\n",
    "19/09/2019\n",
    "\n",
    "# Introduction and Overall Comments\n",
    "\n",
    "The goal of this lab is to explore the time complexity of various python methods of lists and dictionaries. In experiment 1 the goal was to verify that the get item and update item methods for dictionaries are O(1) constant time. This means the graphs produced should show horizontal lines, which denotes O(1).\n",
    "\n",
    "The second experiment's objective was to explore the time complexities of the delete method for both lists and dictionaries. The expected result would be that lists would have a higher complexity than dictionaries.\n",
    "\n",
    "Overall the expected results were verified and the experiments were successful. They took some time to run because of the nested loops and large amount of iterations. "
   ]
  },
  {
   "cell_type": "markdown",
   "metadata": {},
   "source": [
    "## Solution for exercise 1"
   ]
  },
  {
   "cell_type": "code",
   "execution_count": 93,
   "metadata": {},
   "outputs": [
    {
     "data": {
      "image/png": "[encoded data removed]",
      "text/plain": [
       "<Figure size 432x288 with 1 Axes>"
      ]
     },
     "metadata": {
      "needs_background": "light"
     },
     "output_type": "display_data"
    }
   ],
   "source": [
    "# Verify Dictionary get method is O(1)\n",
    "# Devise Experiment to verify get item and update item are O(1) for dictionaries\n",
    "\n",
    "import matplotlib.pyplot as plt\n",
    "import timeit\n",
    "import random\n",
    "\n",
    "#yl, ylacc = [], 0\n",
    "yd, ydacc = [], 0\n",
    "ydu, yduacc = [], 0\n",
    "rng = range(10000,1000001,20000)\n",
    "reps = 10\n",
    "for i in rng:\n",
    "    for j in range(reps):\n",
    "        t = timeit.Timer(\"x.get(%d)\"%random.randrange(i),\"from __main__ import random,x\")\n",
    "        tupdate = timeit.Timer(\"x.update(g=4)\", \"from __main__ import x\")\n",
    "        x = {k:None for k in range(i)}\n",
    "        ydacc += t.timeit(number=10)\n",
    "        #print(ydacc)\n",
    "        yduacc += tupdate.timeit(number=10)\n",
    "    yd.append(ydacc/reps)\n",
    "    ydu.append(ylpacc/reps)\n",
    "\n",
    "x = rng        \n",
    "plt.xlabel('Size')\n",
    "plt.ylabel('Time (in miliseconds)')\n",
    "plt.plot(x, yd, 'g^', label=\"Dict get\")\n",
    "plt.plot(x, ydu, 'b+', label=\"Dict update\")\n",
    "plt.legend()\n",
    "plt.show()"
   ]
  },
  {
   "cell_type": "markdown",
   "metadata": {},
   "source": [
    "**Discussion of the Results**\n",
    "\n",
    "In this excercise, the time complexities of the get and update methods are compared for dictionaries. They are both expected to return O(1) order of magnitude in the average case. Based on the following experiment both methods return a straight line as expected. This suggest it relatively takes the same time throughout or in other words constant time. That is why both lines are very linear.\n",
    "\n",
    "It is important to note the time is measured in milliseconds so compared to larger time complex methods the difference in time will be much more apparent. In this case since the way the update method is implemented, it will always remain a constant time with very little variation but takes a little bit more time than Dictionary get method. Despite this, looking at the numbers being very miniscule the difference is not very large.\n",
    "..."
   ]
  },
  {
   "cell_type": "markdown",
   "metadata": {},
   "source": [
    "## Solution for Exercise 2"
   ]
  },
  {
   "cell_type": "code",
   "execution_count": 92,
   "metadata": {},
   "outputs": [
    {
     "data": {
      "image/png": "[encoded data removed]",
      "text/plain": [
       "<Figure size 432x288 with 1 Axes>"
      ]
     },
     "metadata": {
      "needs_background": "light"
     },
     "output_type": "display_data"
    }
   ],
   "source": [
    "# Python code and its output\n",
    "import matplotlib.pyplot as plt\n",
    "import timeit\n",
    "import random\n",
    "\n",
    "yl, ylacc = [], 0\n",
    "yd, ydacc = [], 0\n",
    "\n",
    "rng = range(10000,1000001,20000)\n",
    "reps = 10\n",
    "for i in rng:\n",
    "    for j in range(reps):\n",
    "        t = timeit.Timer(\"del x[random.randrange(%d)]\"%i,\"from __main__ import random,x\")\n",
    "        \n",
    "        x = list(range(i))\n",
    "        ylacc += t.timeit(number=7)\n",
    "        \n",
    "        x = {k:None for k in range(i)}\n",
    "        ydacc += t.timeit(number=10)\n",
    "    yl.append(ylacc/reps)\n",
    "    yd.append(ydacc/reps)\n",
    "    \n",
    "x = rng        \n",
    "plt.xlabel('Size')\n",
    "plt.ylabel('Time (in miliseconds)')\n",
    "plt.plot(x, yl, 'ro', label=\"List del\")\n",
    "plt.plot(x, yd, 'g^', label=\"Dict del\")\n",
    "#plt.plot(x, ylp, 'b+', label=\"pop(0) list\")\n",
    "plt.legend()\n",
    "plt.show()\n",
    "\n",
    "\n"
   ]
  },
  {
   "cell_type": "markdown",
   "metadata": {},
   "source": [
    "**Discussion of the Results**\n",
    "\n",
    "In this excercise, the time complexities of the delete method are compared between lists and dictionaries. It is clear that the list delete operation is of a greater time complexity than that of a dictionary. The Dictionary delete method of of constant time while the list operation is approximately O(n).\n",
    "\n",
    "It is apparent that the list time complexity grows much faster and may seem as if it is not linear (i.e O(n^2)) in the beginning, but it becomes more or less linear as the iterartions grow. Overall the growth will become linear and O(n). In contrast the dictionary delete operation is very obviously a constant time representation\n",
    "..."
   ]
  }
 ],
 "metadata": {
  "kernelspec": {
   "display_name": "Python 3",
   "language": "python",
   "name": "python3"
  },
  "language_info": {
   "codemirror_mode": {
    "name": "ipython",
    "version": 3
   },
   "file_extension": ".py",
   "mimetype": "text/x-python",
   "name": "python",
   "nbconvert_exporter": "python",
   "pygments_lexer": "ipython3",
   "version": "3.7.3"
  },
  "latex_envs": {
   "LaTeX_envs_menu_present": true,
   "autoclose": false,
   "autocomplete": true,
   "bibliofile": "biblio.bib",
   "cite_by": "apalike",
   "current_citInitial": 1,
   "eqLabelWithNumbers": true,
   "eqNumInitial": 1,
   "hotkeys": {
    "equation": "Ctrl-E",
    "itemize": "Ctrl-I"
   },
   "labels_anchors": false,
   "latex_user_defs": false,
   "report_style_numbering": false,
   "user_envs_cfg": false
  }
 },
 "nbformat": 4,
 "nbformat_minor": 2
}
